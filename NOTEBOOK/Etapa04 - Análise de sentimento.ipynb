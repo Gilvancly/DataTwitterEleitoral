{
 "cells": [
  {
   "cell_type": "markdown",
   "id": "356e2b18",
   "metadata": {},
   "source": [
    "# Análise de Sentimento"
   ]
  },
  {
   "cell_type": "code",
   "execution_count": 103,
   "id": "8ad1d827",
   "metadata": {
    "ExecuteTime": {
     "end_time": "2022-08-01T22:39:31.363154Z",
     "start_time": "2022-08-01T22:39:25.298445Z"
    }
   },
   "outputs": [
    {
     "name": "stdout",
     "output_type": "stream",
     "text": [
      "Requirement already satisfied: vaderSentiment in c:\\users\\gilvancly\\anaconda3\\lib\\site-packages (3.3.2)\n",
      "Requirement already satisfied: requests in c:\\users\\gilvancly\\anaconda3\\lib\\site-packages (from vaderSentiment) (2.26.0)\n",
      "Requirement already satisfied: idna<4,>=2.5 in c:\\users\\gilvancly\\anaconda3\\lib\\site-packages (from requests->vaderSentiment) (3.2)\n",
      "Requirement already satisfied: certifi>=2017.4.17 in c:\\users\\gilvancly\\anaconda3\\lib\\site-packages (from requests->vaderSentiment) (2021.10.8)\n",
      "Requirement already satisfied: urllib3<1.27,>=1.21.1 in c:\\users\\gilvancly\\anaconda3\\lib\\site-packages (from requests->vaderSentiment) (1.26.7)\n",
      "Requirement already satisfied: charset-normalizer~=2.0.0 in c:\\users\\gilvancly\\anaconda3\\lib\\site-packages (from requests->vaderSentiment) (2.0.4)\n",
      "Note: you may need to restart the kernel to use updated packages.\n"
     ]
    }
   ],
   "source": [
    "pip install vaderSentiment"
   ]
  },
  {
   "cell_type": "code",
   "execution_count": 115,
   "id": "54cf0804",
   "metadata": {
    "ExecuteTime": {
     "end_time": "2022-08-01T22:44:18.862822Z",
     "start_time": "2022-08-01T22:44:18.855827Z"
    }
   },
   "outputs": [],
   "source": [
    "import pandas as pd\n",
    "import re\n",
    "import matplotlib.pyplot as plt\n",
    "import seaborn as sns\n",
    "\n",
    "#Processamento de linguagem natural\n",
    "import nltk\n",
    "from nltk.sentiment.vader import SentimentIntensityAnalyzer as SIA\n",
    "from vaderSentiment.vaderSentiment import SentimentIntensityAnalyzer"
   ]
  },
  {
   "cell_type": "code",
   "execution_count": 116,
   "id": "a60718d8",
   "metadata": {
    "ExecuteTime": {
     "end_time": "2022-08-01T22:44:20.058793Z",
     "start_time": "2022-08-01T22:44:20.039805Z"
    }
   },
   "outputs": [],
   "source": [
    "dataframe_sentimento = pd.read_csv(r'C:\\Users\\Gilvancly\\Documents\\PROGRAMAÇÃO\\PROJETOS\\DATA TWITTER ELEITORAL\\CONJUNTO DE DADOS\\etapa03_dataframe_final_candidatos_pronto_para_sentimento.csv')"
   ]
  },
  {
   "cell_type": "code",
   "execution_count": 117,
   "id": "10777374",
   "metadata": {
    "ExecuteTime": {
     "end_time": "2022-08-01T22:44:21.317283Z",
     "start_time": "2022-08-01T22:44:21.297295Z"
    },
    "scrolled": true
   },
   "outputs": [
    {
     "data": {
      "text/html": [
       "<div>\n",
       "<style scoped>\n",
       "    .dataframe tbody tr th:only-of-type {\n",
       "        vertical-align: middle;\n",
       "    }\n",
       "\n",
       "    .dataframe tbody tr th {\n",
       "        vertical-align: top;\n",
       "    }\n",
       "\n",
       "    .dataframe thead th {\n",
       "        text-align: right;\n",
       "    }\n",
       "</style>\n",
       "<table border=\"1\" class=\"dataframe\">\n",
       "  <thead>\n",
       "    <tr style=\"text-align: right;\">\n",
       "      <th></th>\n",
       "      <th>Data_Hora</th>\n",
       "      <th>Id_Tweet</th>\n",
       "      <th>Tweet</th>\n",
       "      <th>Candidato</th>\n",
       "      <th>Tweet_limpo</th>\n",
       "    </tr>\n",
       "  </thead>\n",
       "  <tbody>\n",
       "    <tr>\n",
       "      <th>0</th>\n",
       "      <td>2022-08-01 22:42:31+00:00</td>\n",
       "      <td>1554236160322539524</td>\n",
       "      <td>@ptbrasil @LulaOficial Na urra eletrônica frau...</td>\n",
       "      <td>Lula</td>\n",
       "      <td>na urra eletrônica fraudada você quer dizer ...</td>\n",
       "    </tr>\n",
       "    <tr>\n",
       "      <th>1</th>\n",
       "      <td>2022-08-01 22:42:31+00:00</td>\n",
       "      <td>1554236158992961537</td>\n",
       "      <td>@LulaOficial @ricardostuckert Esse mente</td>\n",
       "      <td>Lula</td>\n",
       "      <td>esse mente</td>\n",
       "    </tr>\n",
       "    <tr>\n",
       "      <th>2</th>\n",
       "      <td>2022-08-01 22:42:29+00:00</td>\n",
       "      <td>1554236153099870208</td>\n",
       "      <td>@AdamBravo79 @AnarcoFino \"Muito melhor\" : \\nDe...</td>\n",
       "      <td>Lula</td>\n",
       "      <td>\"muito melhor\" : desistir da campanha apoiar...</td>\n",
       "    </tr>\n",
       "    <tr>\n",
       "      <th>3</th>\n",
       "      <td>2022-08-01 22:42:29+00:00</td>\n",
       "      <td>1554236151858331648</td>\n",
       "      <td>@extraclassejor No Rio Grande do Sul, Edgar Pr...</td>\n",
       "      <td>Lula</td>\n",
       "      <td>no rio grande do sul, edgar pretto governador...</td>\n",
       "    </tr>\n",
       "    <tr>\n",
       "      <th>4</th>\n",
       "      <td>2022-08-01 22:42:26+00:00</td>\n",
       "      <td>1554236139636129792</td>\n",
       "      <td>@LulaOficial @ricardostuckert https://t.co/vMx...</td>\n",
       "      <td>Lula</td>\n",
       "      <td></td>\n",
       "    </tr>\n",
       "  </tbody>\n",
       "</table>\n",
       "</div>"
      ],
      "text/plain": [
       "                   Data_Hora             Id_Tweet  \\\n",
       "0  2022-08-01 22:42:31+00:00  1554236160322539524   \n",
       "1  2022-08-01 22:42:31+00:00  1554236158992961537   \n",
       "2  2022-08-01 22:42:29+00:00  1554236153099870208   \n",
       "3  2022-08-01 22:42:29+00:00  1554236151858331648   \n",
       "4  2022-08-01 22:42:26+00:00  1554236139636129792   \n",
       "\n",
       "                                               Tweet Candidato  \\\n",
       "0  @ptbrasil @LulaOficial Na urra eletrônica frau...      Lula   \n",
       "1           @LulaOficial @ricardostuckert Esse mente      Lula   \n",
       "2  @AdamBravo79 @AnarcoFino \"Muito melhor\" : \\nDe...      Lula   \n",
       "3  @extraclassejor No Rio Grande do Sul, Edgar Pr...      Lula   \n",
       "4  @LulaOficial @ricardostuckert https://t.co/vMx...      Lula   \n",
       "\n",
       "                                         Tweet_limpo  \n",
       "0    na urra eletrônica fraudada você quer dizer ...  \n",
       "1                                         esse mente  \n",
       "2    \"muito melhor\" : desistir da campanha apoiar...  \n",
       "3   no rio grande do sul, edgar pretto governador...  \n",
       "4                                                     "
      ]
     },
     "execution_count": 117,
     "metadata": {},
     "output_type": "execute_result"
    }
   ],
   "source": [
    "dataframe_sentimento.head()"
   ]
  },
  {
   "cell_type": "code",
   "execution_count": 120,
   "id": "106fa8f7",
   "metadata": {
    "ExecuteTime": {
     "end_time": "2022-08-01T22:44:32.825698Z",
     "start_time": "2022-08-01T22:44:32.791716Z"
    }
   },
   "outputs": [],
   "source": [
    "analisador_de_texto = SentimentIntensityAnalyzer()"
   ]
  },
  {
   "cell_type": "code",
   "execution_count": 121,
   "id": "bdfc9cc9",
   "metadata": {
    "ExecuteTime": {
     "end_time": "2022-08-01T22:44:33.625237Z",
     "start_time": "2022-08-01T22:44:33.567217Z"
    }
   },
   "outputs": [],
   "source": [
    "dataframe_sentimento['Sentimentos'] = dataframe_sentimento['Tweet_limpo'].apply(lambda i:analisador_de_texto.polarity_scores(''.join(re.findall(r'\\w+', i.lower()))))"
   ]
  },
  {
   "cell_type": "code",
   "execution_count": 122,
   "id": "fb89fc6e",
   "metadata": {
    "ExecuteTime": {
     "end_time": "2022-08-01T22:44:34.516195Z",
     "start_time": "2022-08-01T22:44:34.495207Z"
    }
   },
   "outputs": [
    {
     "data": {
      "text/html": [
       "<div>\n",
       "<style scoped>\n",
       "    .dataframe tbody tr th:only-of-type {\n",
       "        vertical-align: middle;\n",
       "    }\n",
       "\n",
       "    .dataframe tbody tr th {\n",
       "        vertical-align: top;\n",
       "    }\n",
       "\n",
       "    .dataframe thead th {\n",
       "        text-align: right;\n",
       "    }\n",
       "</style>\n",
       "<table border=\"1\" class=\"dataframe\">\n",
       "  <thead>\n",
       "    <tr style=\"text-align: right;\">\n",
       "      <th></th>\n",
       "      <th>Data_Hora</th>\n",
       "      <th>Id_Tweet</th>\n",
       "      <th>Tweet</th>\n",
       "      <th>Candidato</th>\n",
       "      <th>Tweet_limpo</th>\n",
       "      <th>Sentimentos</th>\n",
       "    </tr>\n",
       "  </thead>\n",
       "  <tbody>\n",
       "    <tr>\n",
       "      <th>0</th>\n",
       "      <td>2022-08-01 22:42:31+00:00</td>\n",
       "      <td>1554236160322539524</td>\n",
       "      <td>@ptbrasil @LulaOficial Na urra eletrônica frau...</td>\n",
       "      <td>Lula</td>\n",
       "      <td>na urra eletrônica fraudada você quer dizer ...</td>\n",
       "      <td>{'neg': 0.0, 'neu': 1.0, 'pos': 0.0, 'compound...</td>\n",
       "    </tr>\n",
       "    <tr>\n",
       "      <th>1</th>\n",
       "      <td>2022-08-01 22:42:31+00:00</td>\n",
       "      <td>1554236158992961537</td>\n",
       "      <td>@LulaOficial @ricardostuckert Esse mente</td>\n",
       "      <td>Lula</td>\n",
       "      <td>esse mente</td>\n",
       "      <td>{'neg': 0.0, 'neu': 1.0, 'pos': 0.0, 'compound...</td>\n",
       "    </tr>\n",
       "    <tr>\n",
       "      <th>2</th>\n",
       "      <td>2022-08-01 22:42:29+00:00</td>\n",
       "      <td>1554236153099870208</td>\n",
       "      <td>@AdamBravo79 @AnarcoFino \"Muito melhor\" : \\nDe...</td>\n",
       "      <td>Lula</td>\n",
       "      <td>\"muito melhor\" : desistir da campanha apoiar...</td>\n",
       "      <td>{'neg': 0.0, 'neu': 1.0, 'pos': 0.0, 'compound...</td>\n",
       "    </tr>\n",
       "    <tr>\n",
       "      <th>3</th>\n",
       "      <td>2022-08-01 22:42:29+00:00</td>\n",
       "      <td>1554236151858331648</td>\n",
       "      <td>@extraclassejor No Rio Grande do Sul, Edgar Pr...</td>\n",
       "      <td>Lula</td>\n",
       "      <td>no rio grande do sul, edgar pretto governador...</td>\n",
       "      <td>{'neg': 0.0, 'neu': 1.0, 'pos': 0.0, 'compound...</td>\n",
       "    </tr>\n",
       "    <tr>\n",
       "      <th>4</th>\n",
       "      <td>2022-08-01 22:42:26+00:00</td>\n",
       "      <td>1554236139636129792</td>\n",
       "      <td>@LulaOficial @ricardostuckert https://t.co/vMx...</td>\n",
       "      <td>Lula</td>\n",
       "      <td></td>\n",
       "      <td>{'neg': 0.0, 'neu': 0.0, 'pos': 0.0, 'compound...</td>\n",
       "    </tr>\n",
       "  </tbody>\n",
       "</table>\n",
       "</div>"
      ],
      "text/plain": [
       "                   Data_Hora             Id_Tweet  \\\n",
       "0  2022-08-01 22:42:31+00:00  1554236160322539524   \n",
       "1  2022-08-01 22:42:31+00:00  1554236158992961537   \n",
       "2  2022-08-01 22:42:29+00:00  1554236153099870208   \n",
       "3  2022-08-01 22:42:29+00:00  1554236151858331648   \n",
       "4  2022-08-01 22:42:26+00:00  1554236139636129792   \n",
       "\n",
       "                                               Tweet Candidato  \\\n",
       "0  @ptbrasil @LulaOficial Na urra eletrônica frau...      Lula   \n",
       "1           @LulaOficial @ricardostuckert Esse mente      Lula   \n",
       "2  @AdamBravo79 @AnarcoFino \"Muito melhor\" : \\nDe...      Lula   \n",
       "3  @extraclassejor No Rio Grande do Sul, Edgar Pr...      Lula   \n",
       "4  @LulaOficial @ricardostuckert https://t.co/vMx...      Lula   \n",
       "\n",
       "                                         Tweet_limpo  \\\n",
       "0    na urra eletrônica fraudada você quer dizer ...   \n",
       "1                                         esse mente   \n",
       "2    \"muito melhor\" : desistir da campanha apoiar...   \n",
       "3   no rio grande do sul, edgar pretto governador...   \n",
       "4                                                      \n",
       "\n",
       "                                         Sentimentos  \n",
       "0  {'neg': 0.0, 'neu': 1.0, 'pos': 0.0, 'compound...  \n",
       "1  {'neg': 0.0, 'neu': 1.0, 'pos': 0.0, 'compound...  \n",
       "2  {'neg': 0.0, 'neu': 1.0, 'pos': 0.0, 'compound...  \n",
       "3  {'neg': 0.0, 'neu': 1.0, 'pos': 0.0, 'compound...  \n",
       "4  {'neg': 0.0, 'neu': 0.0, 'pos': 0.0, 'compound...  "
      ]
     },
     "execution_count": 122,
     "metadata": {},
     "output_type": "execute_result"
    }
   ],
   "source": [
    "dataframe_sentimento.head()"
   ]
  },
  {
   "cell_type": "code",
   "execution_count": 123,
   "id": "427e7a64",
   "metadata": {
    "ExecuteTime": {
     "end_time": "2022-08-01T22:44:36.813725Z",
     "start_time": "2022-08-01T22:44:36.799731Z"
    }
   },
   "outputs": [
    {
     "data": {
      "text/plain": [
       "0      {'neg': 0.0, 'neu': 1.0, 'pos': 0.0, 'compound...\n",
       "1      {'neg': 0.0, 'neu': 1.0, 'pos': 0.0, 'compound...\n",
       "2      {'neg': 0.0, 'neu': 1.0, 'pos': 0.0, 'compound...\n",
       "3      {'neg': 0.0, 'neu': 1.0, 'pos': 0.0, 'compound...\n",
       "4      {'neg': 0.0, 'neu': 0.0, 'pos': 0.0, 'compound...\n",
       "                             ...                        \n",
       "598    {'neg': 0.0, 'neu': 0.0, 'pos': 0.0, 'compound...\n",
       "599    {'neg': 0.0, 'neu': 1.0, 'pos': 0.0, 'compound...\n",
       "600    {'neg': 0.0, 'neu': 1.0, 'pos': 0.0, 'compound...\n",
       "601    {'neg': 0.0, 'neu': 1.0, 'pos': 0.0, 'compound...\n",
       "602    {'neg': 0.0, 'neu': 1.0, 'pos': 0.0, 'compound...\n",
       "Name: Sentimentos, Length: 603, dtype: object"
      ]
     },
     "execution_count": 123,
     "metadata": {},
     "output_type": "execute_result"
    }
   ],
   "source": [
    "dataframe_sentimento['Sentimentos']"
   ]
  },
  {
   "cell_type": "code",
   "execution_count": 124,
   "id": "10e9bcd5",
   "metadata": {
    "ExecuteTime": {
     "end_time": "2022-08-01T22:44:40.667667Z",
     "start_time": "2022-08-01T22:44:40.647679Z"
    }
   },
   "outputs": [],
   "source": [
    "dataframe_sentimento['Positivo'] = dataframe_sentimento['Sentimentos'].apply(lambda i:i['pos'])\n",
    "dataframe_sentimento['Negativo'] = dataframe_sentimento['Sentimentos'].apply(lambda i:i['neg'])\n",
    "dataframe_sentimento['Neutro'] = dataframe_sentimento['Sentimentos'].apply(lambda i:i['neu'])\n",
    "dataframe_sentimento['Composicao'] = dataframe_sentimento['Sentimentos'].apply(lambda i:i['compound'])\n"
   ]
  },
  {
   "cell_type": "code",
   "execution_count": 125,
   "id": "3917179f",
   "metadata": {
    "ExecuteTime": {
     "end_time": "2022-08-01T22:44:42.722143Z",
     "start_time": "2022-08-01T22:44:42.695159Z"
    }
   },
   "outputs": [
    {
     "data": {
      "text/html": [
       "<div>\n",
       "<style scoped>\n",
       "    .dataframe tbody tr th:only-of-type {\n",
       "        vertical-align: middle;\n",
       "    }\n",
       "\n",
       "    .dataframe tbody tr th {\n",
       "        vertical-align: top;\n",
       "    }\n",
       "\n",
       "    .dataframe thead th {\n",
       "        text-align: right;\n",
       "    }\n",
       "</style>\n",
       "<table border=\"1\" class=\"dataframe\">\n",
       "  <thead>\n",
       "    <tr style=\"text-align: right;\">\n",
       "      <th></th>\n",
       "      <th>Data_Hora</th>\n",
       "      <th>Id_Tweet</th>\n",
       "      <th>Tweet</th>\n",
       "      <th>Candidato</th>\n",
       "      <th>Tweet_limpo</th>\n",
       "      <th>Sentimentos</th>\n",
       "      <th>Positivo</th>\n",
       "      <th>Negativo</th>\n",
       "      <th>Neutro</th>\n",
       "      <th>Composicao</th>\n",
       "    </tr>\n",
       "  </thead>\n",
       "  <tbody>\n",
       "    <tr>\n",
       "      <th>0</th>\n",
       "      <td>2022-08-01 22:42:31+00:00</td>\n",
       "      <td>1554236160322539524</td>\n",
       "      <td>@ptbrasil @LulaOficial Na urra eletrônica frau...</td>\n",
       "      <td>Lula</td>\n",
       "      <td>na urra eletrônica fraudada você quer dizer ...</td>\n",
       "      <td>{'neg': 0.0, 'neu': 1.0, 'pos': 0.0, 'compound...</td>\n",
       "      <td>0.0</td>\n",
       "      <td>0.0</td>\n",
       "      <td>1.0</td>\n",
       "      <td>0.0</td>\n",
       "    </tr>\n",
       "    <tr>\n",
       "      <th>1</th>\n",
       "      <td>2022-08-01 22:42:31+00:00</td>\n",
       "      <td>1554236158992961537</td>\n",
       "      <td>@LulaOficial @ricardostuckert Esse mente</td>\n",
       "      <td>Lula</td>\n",
       "      <td>esse mente</td>\n",
       "      <td>{'neg': 0.0, 'neu': 1.0, 'pos': 0.0, 'compound...</td>\n",
       "      <td>0.0</td>\n",
       "      <td>0.0</td>\n",
       "      <td>1.0</td>\n",
       "      <td>0.0</td>\n",
       "    </tr>\n",
       "    <tr>\n",
       "      <th>2</th>\n",
       "      <td>2022-08-01 22:42:29+00:00</td>\n",
       "      <td>1554236153099870208</td>\n",
       "      <td>@AdamBravo79 @AnarcoFino \"Muito melhor\" : \\nDe...</td>\n",
       "      <td>Lula</td>\n",
       "      <td>\"muito melhor\" : desistir da campanha apoiar...</td>\n",
       "      <td>{'neg': 0.0, 'neu': 1.0, 'pos': 0.0, 'compound...</td>\n",
       "      <td>0.0</td>\n",
       "      <td>0.0</td>\n",
       "      <td>1.0</td>\n",
       "      <td>0.0</td>\n",
       "    </tr>\n",
       "    <tr>\n",
       "      <th>3</th>\n",
       "      <td>2022-08-01 22:42:29+00:00</td>\n",
       "      <td>1554236151858331648</td>\n",
       "      <td>@extraclassejor No Rio Grande do Sul, Edgar Pr...</td>\n",
       "      <td>Lula</td>\n",
       "      <td>no rio grande do sul, edgar pretto governador...</td>\n",
       "      <td>{'neg': 0.0, 'neu': 1.0, 'pos': 0.0, 'compound...</td>\n",
       "      <td>0.0</td>\n",
       "      <td>0.0</td>\n",
       "      <td>1.0</td>\n",
       "      <td>0.0</td>\n",
       "    </tr>\n",
       "    <tr>\n",
       "      <th>4</th>\n",
       "      <td>2022-08-01 22:42:26+00:00</td>\n",
       "      <td>1554236139636129792</td>\n",
       "      <td>@LulaOficial @ricardostuckert https://t.co/vMx...</td>\n",
       "      <td>Lula</td>\n",
       "      <td></td>\n",
       "      <td>{'neg': 0.0, 'neu': 0.0, 'pos': 0.0, 'compound...</td>\n",
       "      <td>0.0</td>\n",
       "      <td>0.0</td>\n",
       "      <td>0.0</td>\n",
       "      <td>0.0</td>\n",
       "    </tr>\n",
       "  </tbody>\n",
       "</table>\n",
       "</div>"
      ],
      "text/plain": [
       "                   Data_Hora             Id_Tweet  \\\n",
       "0  2022-08-01 22:42:31+00:00  1554236160322539524   \n",
       "1  2022-08-01 22:42:31+00:00  1554236158992961537   \n",
       "2  2022-08-01 22:42:29+00:00  1554236153099870208   \n",
       "3  2022-08-01 22:42:29+00:00  1554236151858331648   \n",
       "4  2022-08-01 22:42:26+00:00  1554236139636129792   \n",
       "\n",
       "                                               Tweet Candidato  \\\n",
       "0  @ptbrasil @LulaOficial Na urra eletrônica frau...      Lula   \n",
       "1           @LulaOficial @ricardostuckert Esse mente      Lula   \n",
       "2  @AdamBravo79 @AnarcoFino \"Muito melhor\" : \\nDe...      Lula   \n",
       "3  @extraclassejor No Rio Grande do Sul, Edgar Pr...      Lula   \n",
       "4  @LulaOficial @ricardostuckert https://t.co/vMx...      Lula   \n",
       "\n",
       "                                         Tweet_limpo  \\\n",
       "0    na urra eletrônica fraudada você quer dizer ...   \n",
       "1                                         esse mente   \n",
       "2    \"muito melhor\" : desistir da campanha apoiar...   \n",
       "3   no rio grande do sul, edgar pretto governador...   \n",
       "4                                                      \n",
       "\n",
       "                                         Sentimentos  Positivo  Negativo  \\\n",
       "0  {'neg': 0.0, 'neu': 1.0, 'pos': 0.0, 'compound...       0.0       0.0   \n",
       "1  {'neg': 0.0, 'neu': 1.0, 'pos': 0.0, 'compound...       0.0       0.0   \n",
       "2  {'neg': 0.0, 'neu': 1.0, 'pos': 0.0, 'compound...       0.0       0.0   \n",
       "3  {'neg': 0.0, 'neu': 1.0, 'pos': 0.0, 'compound...       0.0       0.0   \n",
       "4  {'neg': 0.0, 'neu': 0.0, 'pos': 0.0, 'compound...       0.0       0.0   \n",
       "\n",
       "   Neutro  Composicao  \n",
       "0     1.0         0.0  \n",
       "1     1.0         0.0  \n",
       "2     1.0         0.0  \n",
       "3     1.0         0.0  \n",
       "4     0.0         0.0  "
      ]
     },
     "execution_count": 125,
     "metadata": {},
     "output_type": "execute_result"
    }
   ],
   "source": [
    "dataframe_sentimento.head()"
   ]
  },
  {
   "cell_type": "code",
   "execution_count": 126,
   "id": "1f92e3f5",
   "metadata": {
    "ExecuteTime": {
     "end_time": "2022-08-01T22:44:45.229134Z",
     "start_time": "2022-08-01T22:44:45.224144Z"
    }
   },
   "outputs": [],
   "source": [
    "sentimento = []"
   ]
  },
  {
   "cell_type": "code",
   "execution_count": 127,
   "id": "32187b96",
   "metadata": {
    "ExecuteTime": {
     "end_time": "2022-08-01T22:44:46.619116Z",
     "start_time": "2022-08-01T22:44:46.592128Z"
    }
   },
   "outputs": [
    {
     "data": {
      "text/plain": [
       "['Neutro',\n",
       " 'Neutro',\n",
       " 'Neutro',\n",
       " 'Neutro',\n",
       " 'Neutro',\n",
       " 'Neutro',\n",
       " 'Neutro',\n",
       " 'Neutro',\n",
       " 'Neutro',\n",
       " 'Neutro',\n",
       " 'Neutro',\n",
       " 'Neutro',\n",
       " 'Neutro',\n",
       " 'Neutro',\n",
       " 'Neutro',\n",
       " 'Neutro',\n",
       " 'Neutro',\n",
       " 'Neutro',\n",
       " 'Neutro',\n",
       " 'Neutro',\n",
       " 'Neutro',\n",
       " 'Neutro',\n",
       " 'Neutro',\n",
       " 'Neutro',\n",
       " 'Neutro',\n",
       " 'Neutro',\n",
       " 'Neutro',\n",
       " 'Neutro',\n",
       " 'Neutro',\n",
       " 'Neutro',\n",
       " 'Neutro',\n",
       " 'Neutro',\n",
       " 'Neutro',\n",
       " 'Neutro',\n",
       " 'Neutro',\n",
       " 'Neutro',\n",
       " 'Neutro',\n",
       " 'Neutro',\n",
       " 'Neutro',\n",
       " 'Neutro',\n",
       " 'Neutro',\n",
       " 'Neutro',\n",
       " 'Neutro',\n",
       " 'Neutro',\n",
       " 'Neutro',\n",
       " 'Neutro',\n",
       " 'Neutro',\n",
       " 'Neutro',\n",
       " 'Neutro',\n",
       " 'Neutro',\n",
       " 'Neutro',\n",
       " 'Neutro',\n",
       " 'Neutro',\n",
       " 'Neutro',\n",
       " 'Neutro',\n",
       " 'Neutro',\n",
       " 'Neutro',\n",
       " 'Neutro',\n",
       " 'Neutro',\n",
       " 'Neutro',\n",
       " 'Neutro',\n",
       " 'Neutro',\n",
       " 'Neutro',\n",
       " 'Neutro',\n",
       " 'Neutro',\n",
       " 'Neutro',\n",
       " 'Neutro',\n",
       " 'Neutro',\n",
       " 'Neutro',\n",
       " 'Neutro',\n",
       " 'Neutro',\n",
       " 'Neutro',\n",
       " 'Neutro',\n",
       " 'Neutro',\n",
       " 'Neutro',\n",
       " 'Neutro',\n",
       " 'Neutro',\n",
       " 'Neutro',\n",
       " 'Neutro',\n",
       " 'Neutro',\n",
       " 'Neutro',\n",
       " 'Neutro',\n",
       " 'Neutro',\n",
       " 'Neutro',\n",
       " 'Neutro',\n",
       " 'Neutro',\n",
       " 'Neutro',\n",
       " 'Neutro',\n",
       " 'Neutro',\n",
       " 'Neutro',\n",
       " 'Neutro',\n",
       " 'Neutro',\n",
       " 'Neutro',\n",
       " 'Neutro',\n",
       " 'Neutro',\n",
       " 'Neutro',\n",
       " 'Neutro',\n",
       " 'Neutro',\n",
       " 'Neutro',\n",
       " 'Neutro',\n",
       " 'Neutro',\n",
       " 'Neutro',\n",
       " 'Neutro',\n",
       " 'Neutro',\n",
       " 'Neutro',\n",
       " 'Neutro',\n",
       " 'Neutro',\n",
       " 'Neutro',\n",
       " 'Neutro',\n",
       " 'Neutro',\n",
       " 'Neutro',\n",
       " 'Neutro',\n",
       " 'Neutro',\n",
       " 'Neutro',\n",
       " 'Neutro',\n",
       " 'Neutro',\n",
       " 'Neutro',\n",
       " 'Neutro',\n",
       " 'Neutro',\n",
       " 'Neutro',\n",
       " 'Neutro',\n",
       " 'Neutro',\n",
       " 'Neutro',\n",
       " 'Neutro',\n",
       " 'Neutro',\n",
       " 'Neutro',\n",
       " 'Neutro',\n",
       " 'Neutro',\n",
       " 'Neutro',\n",
       " 'Neutro',\n",
       " 'Neutro',\n",
       " 'Neutro',\n",
       " 'Neutro',\n",
       " 'Neutro',\n",
       " 'Neutro',\n",
       " 'Neutro',\n",
       " 'Neutro',\n",
       " 'Neutro',\n",
       " 'Neutro',\n",
       " 'Neutro',\n",
       " 'Neutro',\n",
       " 'Neutro',\n",
       " 'Neutro',\n",
       " 'Neutro',\n",
       " 'Neutro',\n",
       " 'Neutro',\n",
       " 'Neutro',\n",
       " 'Neutro',\n",
       " 'Neutro',\n",
       " 'Neutro',\n",
       " 'Neutro',\n",
       " 'Neutro',\n",
       " 'Neutro',\n",
       " 'Neutro',\n",
       " 'Neutro',\n",
       " 'Neutro',\n",
       " 'Neutro',\n",
       " 'Neutro',\n",
       " 'Neutro',\n",
       " 'Neutro',\n",
       " 'Neutro',\n",
       " 'Neutro',\n",
       " 'Neutro',\n",
       " 'Neutro',\n",
       " 'Neutro',\n",
       " 'Neutro',\n",
       " 'Neutro',\n",
       " 'Neutro',\n",
       " 'Neutro',\n",
       " 'Neutro',\n",
       " 'Neutro',\n",
       " 'Neutro',\n",
       " 'Neutro',\n",
       " 'Neutro',\n",
       " 'Neutro',\n",
       " 'Neutro',\n",
       " 'Neutro',\n",
       " 'Neutro',\n",
       " 'Neutro',\n",
       " 'Neutro',\n",
       " 'Neutro',\n",
       " 'Neutro',\n",
       " 'Neutro',\n",
       " 'Neutro',\n",
       " 'Neutro',\n",
       " 'Neutro',\n",
       " 'Neutro',\n",
       " 'Neutro',\n",
       " 'Neutro',\n",
       " 'Neutro',\n",
       " 'Neutro',\n",
       " 'Neutro',\n",
       " 'Neutro',\n",
       " 'Neutro',\n",
       " 'Neutro',\n",
       " 'Neutro',\n",
       " 'Neutro',\n",
       " 'Neutro',\n",
       " 'Neutro',\n",
       " 'Neutro',\n",
       " 'Neutro',\n",
       " 'Neutro',\n",
       " 'Neutro',\n",
       " 'Neutro',\n",
       " 'Neutro',\n",
       " 'Neutro',\n",
       " 'Neutro',\n",
       " 'Neutro',\n",
       " 'Neutro',\n",
       " 'Neutro',\n",
       " 'Neutro',\n",
       " 'Neutro',\n",
       " 'Neutro',\n",
       " 'Neutro',\n",
       " 'Neutro',\n",
       " 'Neutro',\n",
       " 'Neutro',\n",
       " 'Neutro',\n",
       " 'Neutro',\n",
       " 'Neutro',\n",
       " 'Neutro',\n",
       " 'Neutro',\n",
       " 'Neutro',\n",
       " 'Neutro',\n",
       " 'Neutro',\n",
       " 'Neutro',\n",
       " 'Neutro',\n",
       " 'Neutro',\n",
       " 'Neutro',\n",
       " 'Neutro',\n",
       " 'Neutro',\n",
       " 'Neutro',\n",
       " 'Neutro',\n",
       " 'Neutro',\n",
       " 'Neutro',\n",
       " 'Neutro',\n",
       " 'Neutro',\n",
       " 'Neutro',\n",
       " 'Neutro',\n",
       " 'Neutro',\n",
       " 'Neutro',\n",
       " 'Neutro',\n",
       " 'Neutro',\n",
       " 'Neutro',\n",
       " 'Neutro',\n",
       " 'Neutro',\n",
       " 'Neutro',\n",
       " 'Neutro',\n",
       " 'Neutro',\n",
       " 'Neutro',\n",
       " 'Neutro',\n",
       " 'Neutro',\n",
       " 'Neutro',\n",
       " 'Neutro',\n",
       " 'Neutro',\n",
       " 'Neutro',\n",
       " 'Neutro',\n",
       " 'Neutro',\n",
       " 'Neutro',\n",
       " 'Neutro',\n",
       " 'Neutro',\n",
       " 'Neutro',\n",
       " 'Neutro',\n",
       " 'Neutro',\n",
       " 'Neutro',\n",
       " 'Neutro',\n",
       " 'Neutro',\n",
       " 'Neutro',\n",
       " 'Neutro',\n",
       " 'Neutro',\n",
       " 'Neutro',\n",
       " 'Neutro',\n",
       " 'Neutro',\n",
       " 'Neutro',\n",
       " 'Neutro',\n",
       " 'Neutro',\n",
       " 'Neutro',\n",
       " 'Neutro',\n",
       " 'Neutro',\n",
       " 'Neutro',\n",
       " 'Neutro',\n",
       " 'Neutro',\n",
       " 'Neutro',\n",
       " 'Neutro',\n",
       " 'Neutro',\n",
       " 'Neutro',\n",
       " 'Neutro',\n",
       " 'Neutro',\n",
       " 'Neutro',\n",
       " 'Neutro',\n",
       " 'Neutro',\n",
       " 'Neutro',\n",
       " 'Neutro',\n",
       " 'Neutro',\n",
       " 'Neutro',\n",
       " 'Neutro',\n",
       " 'Neutro',\n",
       " 'Neutro',\n",
       " 'Neutro',\n",
       " 'Neutro',\n",
       " 'Neutro',\n",
       " 'Neutro',\n",
       " 'Neutro',\n",
       " 'Neutro',\n",
       " 'Neutro',\n",
       " 'Neutro',\n",
       " 'Neutro',\n",
       " 'Neutro',\n",
       " 'Neutro',\n",
       " 'Neutro',\n",
       " 'Neutro',\n",
       " 'Neutro',\n",
       " 'Neutro',\n",
       " 'Neutro',\n",
       " 'Neutro',\n",
       " 'Neutro',\n",
       " 'Neutro',\n",
       " 'Neutro',\n",
       " 'Neutro',\n",
       " 'Neutro',\n",
       " 'Neutro',\n",
       " 'Neutro',\n",
       " 'Neutro',\n",
       " 'Neutro',\n",
       " 'Neutro',\n",
       " 'Neutro',\n",
       " 'Neutro',\n",
       " 'Neutro',\n",
       " 'Neutro',\n",
       " 'Neutro',\n",
       " 'Neutro',\n",
       " 'Neutro',\n",
       " 'Neutro',\n",
       " 'Neutro',\n",
       " 'Neutro',\n",
       " 'Neutro',\n",
       " 'Neutro',\n",
       " 'Neutro',\n",
       " 'Neutro',\n",
       " 'Neutro',\n",
       " 'Neutro',\n",
       " 'Neutro',\n",
       " 'Neutro',\n",
       " 'Neutro',\n",
       " 'Neutro',\n",
       " 'Neutro',\n",
       " 'Neutro',\n",
       " 'Neutro',\n",
       " 'Neutro',\n",
       " 'Neutro',\n",
       " 'Neutro',\n",
       " 'Neutro',\n",
       " 'Neutro',\n",
       " 'Neutro',\n",
       " 'Neutro',\n",
       " 'Neutro',\n",
       " 'Neutro',\n",
       " 'Neutro',\n",
       " 'Neutro',\n",
       " 'Neutro',\n",
       " 'Neutro',\n",
       " 'Neutro',\n",
       " 'Neutro',\n",
       " 'Neutro',\n",
       " 'Neutro',\n",
       " 'Neutro',\n",
       " 'Neutro',\n",
       " 'Neutro',\n",
       " 'Neutro',\n",
       " 'Neutro',\n",
       " 'Neutro',\n",
       " 'Neutro',\n",
       " 'Neutro',\n",
       " 'Neutro',\n",
       " 'Neutro',\n",
       " 'Neutro',\n",
       " 'Neutro',\n",
       " 'Neutro',\n",
       " 'Neutro',\n",
       " 'Neutro',\n",
       " 'Neutro',\n",
       " 'Neutro',\n",
       " 'Neutro',\n",
       " 'Neutro',\n",
       " 'Neutro',\n",
       " 'Neutro',\n",
       " 'Neutro',\n",
       " 'Neutro',\n",
       " 'Neutro',\n",
       " 'Neutro',\n",
       " 'Neutro',\n",
       " 'Neutro',\n",
       " 'Neutro',\n",
       " 'Neutro',\n",
       " 'Neutro',\n",
       " 'Neutro',\n",
       " 'Neutro',\n",
       " 'Neutro',\n",
       " 'Neutro',\n",
       " 'Neutro',\n",
       " 'Neutro',\n",
       " 'Neutro',\n",
       " 'Neutro',\n",
       " 'Neutro',\n",
       " 'Neutro',\n",
       " 'Neutro',\n",
       " 'Neutro',\n",
       " 'Neutro',\n",
       " 'Neutro',\n",
       " 'Neutro',\n",
       " 'Neutro',\n",
       " 'Neutro',\n",
       " 'Neutro',\n",
       " 'Neutro',\n",
       " 'Neutro',\n",
       " 'Neutro',\n",
       " 'Neutro',\n",
       " 'Neutro',\n",
       " 'Neutro',\n",
       " 'Neutro',\n",
       " 'Neutro',\n",
       " 'Neutro',\n",
       " 'Neutro',\n",
       " 'Neutro',\n",
       " 'Neutro',\n",
       " 'Neutro',\n",
       " 'Neutro',\n",
       " 'Neutro',\n",
       " 'Neutro',\n",
       " 'Neutro',\n",
       " 'Neutro',\n",
       " 'Neutro',\n",
       " 'Neutro',\n",
       " 'Neutro',\n",
       " 'Neutro',\n",
       " 'Neutro',\n",
       " 'Neutro',\n",
       " 'Neutro',\n",
       " 'Neutro',\n",
       " 'Neutro',\n",
       " 'Neutro',\n",
       " 'Neutro',\n",
       " 'Neutro',\n",
       " 'Neutro',\n",
       " 'Neutro',\n",
       " 'Neutro',\n",
       " 'Neutro',\n",
       " 'Neutro',\n",
       " 'Neutro',\n",
       " 'Neutro',\n",
       " 'Neutro',\n",
       " 'Neutro',\n",
       " 'Neutro',\n",
       " 'Neutro',\n",
       " 'Neutro',\n",
       " 'Neutro',\n",
       " 'Neutro',\n",
       " 'Neutro',\n",
       " 'Neutro',\n",
       " 'Neutro',\n",
       " 'Neutro',\n",
       " 'Neutro',\n",
       " 'Neutro',\n",
       " 'Neutro',\n",
       " 'Neutro',\n",
       " 'Neutro',\n",
       " 'Neutro',\n",
       " 'Neutro',\n",
       " 'Neutro',\n",
       " 'Neutro',\n",
       " 'Neutro',\n",
       " 'Neutro',\n",
       " 'Neutro',\n",
       " 'Neutro',\n",
       " 'Neutro',\n",
       " 'Neutro',\n",
       " 'Neutro',\n",
       " 'Neutro',\n",
       " 'Neutro',\n",
       " 'Neutro',\n",
       " 'Neutro',\n",
       " 'Neutro',\n",
       " 'Neutro',\n",
       " 'Neutro',\n",
       " 'Neutro',\n",
       " 'Neutro',\n",
       " 'Neutro',\n",
       " 'Neutro',\n",
       " 'Neutro',\n",
       " 'Neutro',\n",
       " 'Neutro',\n",
       " 'Neutro',\n",
       " 'Neutro',\n",
       " 'Neutro',\n",
       " 'Neutro',\n",
       " 'Neutro',\n",
       " 'Neutro',\n",
       " 'Neutro',\n",
       " 'Neutro',\n",
       " 'Neutro',\n",
       " 'Neutro',\n",
       " 'Neutro',\n",
       " 'Neutro',\n",
       " 'Neutro',\n",
       " 'Neutro',\n",
       " 'Neutro',\n",
       " 'Neutro',\n",
       " 'Neutro',\n",
       " 'Neutro',\n",
       " 'Neutro',\n",
       " 'Neutro',\n",
       " 'Neutro',\n",
       " 'Neutro',\n",
       " 'Neutro',\n",
       " 'Neutro',\n",
       " 'Neutro',\n",
       " 'Neutro',\n",
       " 'Neutro',\n",
       " 'Neutro',\n",
       " 'Neutro',\n",
       " 'Neutro',\n",
       " 'Neutro',\n",
       " 'Neutro',\n",
       " 'Neutro',\n",
       " 'Neutro',\n",
       " 'Neutro',\n",
       " 'Neutro',\n",
       " 'Neutro',\n",
       " 'Neutro',\n",
       " 'Neutro',\n",
       " 'Neutro',\n",
       " 'Neutro',\n",
       " 'Neutro',\n",
       " 'Neutro',\n",
       " 'Neutro',\n",
       " 'Neutro',\n",
       " 'Neutro',\n",
       " 'Neutro',\n",
       " 'Neutro',\n",
       " 'Neutro',\n",
       " 'Neutro',\n",
       " 'Neutro',\n",
       " 'Neutro',\n",
       " 'Neutro',\n",
       " 'Neutro',\n",
       " 'Neutro',\n",
       " 'Neutro',\n",
       " 'Neutro',\n",
       " 'Neutro',\n",
       " 'Neutro',\n",
       " 'Neutro',\n",
       " 'Neutro',\n",
       " 'Neutro',\n",
       " 'Neutro',\n",
       " 'Neutro',\n",
       " 'Neutro',\n",
       " 'Neutro',\n",
       " 'Neutro',\n",
       " 'Neutro',\n",
       " 'Neutro',\n",
       " 'Neutro',\n",
       " 'Neutro',\n",
       " 'Neutro',\n",
       " 'Neutro',\n",
       " 'Neutro',\n",
       " 'Neutro',\n",
       " 'Neutro',\n",
       " 'Neutro',\n",
       " 'Neutro',\n",
       " 'Neutro',\n",
       " 'Neutro',\n",
       " 'Neutro',\n",
       " 'Neutro',\n",
       " 'Neutro',\n",
       " 'Neutro',\n",
       " 'Neutro',\n",
       " 'Neutro',\n",
       " 'Neutro',\n",
       " 'Neutro',\n",
       " 'Neutro',\n",
       " 'Neutro',\n",
       " 'Neutro',\n",
       " 'Neutro',\n",
       " 'Neutro',\n",
       " 'Neutro',\n",
       " 'Neutro',\n",
       " 'Neutro',\n",
       " 'Neutro',\n",
       " 'Neutro',\n",
       " 'Neutro',\n",
       " 'Neutro',\n",
       " 'Neutro',\n",
       " 'Neutro',\n",
       " 'Neutro',\n",
       " 'Neutro',\n",
       " 'Neutro',\n",
       " 'Neutro',\n",
       " 'Neutro',\n",
       " 'Neutro',\n",
       " 'Neutro',\n",
       " 'Neutro',\n",
       " 'Neutro',\n",
       " 'Neutro']"
      ]
     },
     "execution_count": 127,
     "metadata": {},
     "output_type": "execute_result"
    }
   ],
   "source": [
    "for i in dataframe_sentimento['Composicao']:\n",
    "    if i >= 0.05:\n",
    "        sentimento.append('Positivo')\n",
    "    elif i <= (-0.05):\n",
    "        sentimento.append('Negativo')\n",
    "    else:\n",
    "        sentimento.append('Neutro')\n",
    "        \n",
    "sentimento"
   ]
  },
  {
   "cell_type": "code",
   "execution_count": 128,
   "id": "0e9ed68b",
   "metadata": {
    "ExecuteTime": {
     "end_time": "2022-08-01T22:44:48.005623Z",
     "start_time": "2022-08-01T22:44:47.998628Z"
    }
   },
   "outputs": [],
   "source": [
    "dataframe_sentimento['Sentimento_final'] = sentimento"
   ]
  },
  {
   "cell_type": "code",
   "execution_count": 129,
   "id": "282ccd1d",
   "metadata": {
    "ExecuteTime": {
     "end_time": "2022-08-01T22:44:49.700082Z",
     "start_time": "2022-08-01T22:44:49.671103Z"
    }
   },
   "outputs": [
    {
     "data": {
      "text/html": [
       "<div>\n",
       "<style scoped>\n",
       "    .dataframe tbody tr th:only-of-type {\n",
       "        vertical-align: middle;\n",
       "    }\n",
       "\n",
       "    .dataframe tbody tr th {\n",
       "        vertical-align: top;\n",
       "    }\n",
       "\n",
       "    .dataframe thead th {\n",
       "        text-align: right;\n",
       "    }\n",
       "</style>\n",
       "<table border=\"1\" class=\"dataframe\">\n",
       "  <thead>\n",
       "    <tr style=\"text-align: right;\">\n",
       "      <th></th>\n",
       "      <th>Data_Hora</th>\n",
       "      <th>Id_Tweet</th>\n",
       "      <th>Tweet</th>\n",
       "      <th>Candidato</th>\n",
       "      <th>Tweet_limpo</th>\n",
       "      <th>Sentimentos</th>\n",
       "      <th>Positivo</th>\n",
       "      <th>Negativo</th>\n",
       "      <th>Neutro</th>\n",
       "      <th>Composicao</th>\n",
       "      <th>Sentimento_final</th>\n",
       "    </tr>\n",
       "  </thead>\n",
       "  <tbody>\n",
       "    <tr>\n",
       "      <th>0</th>\n",
       "      <td>2022-08-01 22:42:31+00:00</td>\n",
       "      <td>1554236160322539524</td>\n",
       "      <td>@ptbrasil @LulaOficial Na urra eletrônica frau...</td>\n",
       "      <td>Lula</td>\n",
       "      <td>na urra eletrônica fraudada você quer dizer ...</td>\n",
       "      <td>{'neg': 0.0, 'neu': 1.0, 'pos': 0.0, 'compound...</td>\n",
       "      <td>0.0</td>\n",
       "      <td>0.0</td>\n",
       "      <td>1.0</td>\n",
       "      <td>0.0</td>\n",
       "      <td>Neutro</td>\n",
       "    </tr>\n",
       "    <tr>\n",
       "      <th>1</th>\n",
       "      <td>2022-08-01 22:42:31+00:00</td>\n",
       "      <td>1554236158992961537</td>\n",
       "      <td>@LulaOficial @ricardostuckert Esse mente</td>\n",
       "      <td>Lula</td>\n",
       "      <td>esse mente</td>\n",
       "      <td>{'neg': 0.0, 'neu': 1.0, 'pos': 0.0, 'compound...</td>\n",
       "      <td>0.0</td>\n",
       "      <td>0.0</td>\n",
       "      <td>1.0</td>\n",
       "      <td>0.0</td>\n",
       "      <td>Neutro</td>\n",
       "    </tr>\n",
       "    <tr>\n",
       "      <th>2</th>\n",
       "      <td>2022-08-01 22:42:29+00:00</td>\n",
       "      <td>1554236153099870208</td>\n",
       "      <td>@AdamBravo79 @AnarcoFino \"Muito melhor\" : \\nDe...</td>\n",
       "      <td>Lula</td>\n",
       "      <td>\"muito melhor\" : desistir da campanha apoiar...</td>\n",
       "      <td>{'neg': 0.0, 'neu': 1.0, 'pos': 0.0, 'compound...</td>\n",
       "      <td>0.0</td>\n",
       "      <td>0.0</td>\n",
       "      <td>1.0</td>\n",
       "      <td>0.0</td>\n",
       "      <td>Neutro</td>\n",
       "    </tr>\n",
       "    <tr>\n",
       "      <th>3</th>\n",
       "      <td>2022-08-01 22:42:29+00:00</td>\n",
       "      <td>1554236151858331648</td>\n",
       "      <td>@extraclassejor No Rio Grande do Sul, Edgar Pr...</td>\n",
       "      <td>Lula</td>\n",
       "      <td>no rio grande do sul, edgar pretto governador...</td>\n",
       "      <td>{'neg': 0.0, 'neu': 1.0, 'pos': 0.0, 'compound...</td>\n",
       "      <td>0.0</td>\n",
       "      <td>0.0</td>\n",
       "      <td>1.0</td>\n",
       "      <td>0.0</td>\n",
       "      <td>Neutro</td>\n",
       "    </tr>\n",
       "    <tr>\n",
       "      <th>4</th>\n",
       "      <td>2022-08-01 22:42:26+00:00</td>\n",
       "      <td>1554236139636129792</td>\n",
       "      <td>@LulaOficial @ricardostuckert https://t.co/vMx...</td>\n",
       "      <td>Lula</td>\n",
       "      <td></td>\n",
       "      <td>{'neg': 0.0, 'neu': 0.0, 'pos': 0.0, 'compound...</td>\n",
       "      <td>0.0</td>\n",
       "      <td>0.0</td>\n",
       "      <td>0.0</td>\n",
       "      <td>0.0</td>\n",
       "      <td>Neutro</td>\n",
       "    </tr>\n",
       "  </tbody>\n",
       "</table>\n",
       "</div>"
      ],
      "text/plain": [
       "                   Data_Hora             Id_Tweet  \\\n",
       "0  2022-08-01 22:42:31+00:00  1554236160322539524   \n",
       "1  2022-08-01 22:42:31+00:00  1554236158992961537   \n",
       "2  2022-08-01 22:42:29+00:00  1554236153099870208   \n",
       "3  2022-08-01 22:42:29+00:00  1554236151858331648   \n",
       "4  2022-08-01 22:42:26+00:00  1554236139636129792   \n",
       "\n",
       "                                               Tweet Candidato  \\\n",
       "0  @ptbrasil @LulaOficial Na urra eletrônica frau...      Lula   \n",
       "1           @LulaOficial @ricardostuckert Esse mente      Lula   \n",
       "2  @AdamBravo79 @AnarcoFino \"Muito melhor\" : \\nDe...      Lula   \n",
       "3  @extraclassejor No Rio Grande do Sul, Edgar Pr...      Lula   \n",
       "4  @LulaOficial @ricardostuckert https://t.co/vMx...      Lula   \n",
       "\n",
       "                                         Tweet_limpo  \\\n",
       "0    na urra eletrônica fraudada você quer dizer ...   \n",
       "1                                         esse mente   \n",
       "2    \"muito melhor\" : desistir da campanha apoiar...   \n",
       "3   no rio grande do sul, edgar pretto governador...   \n",
       "4                                                      \n",
       "\n",
       "                                         Sentimentos  Positivo  Negativo  \\\n",
       "0  {'neg': 0.0, 'neu': 1.0, 'pos': 0.0, 'compound...       0.0       0.0   \n",
       "1  {'neg': 0.0, 'neu': 1.0, 'pos': 0.0, 'compound...       0.0       0.0   \n",
       "2  {'neg': 0.0, 'neu': 1.0, 'pos': 0.0, 'compound...       0.0       0.0   \n",
       "3  {'neg': 0.0, 'neu': 1.0, 'pos': 0.0, 'compound...       0.0       0.0   \n",
       "4  {'neg': 0.0, 'neu': 0.0, 'pos': 0.0, 'compound...       0.0       0.0   \n",
       "\n",
       "   Neutro  Composicao Sentimento_final  \n",
       "0     1.0         0.0           Neutro  \n",
       "1     1.0         0.0           Neutro  \n",
       "2     1.0         0.0           Neutro  \n",
       "3     1.0         0.0           Neutro  \n",
       "4     0.0         0.0           Neutro  "
      ]
     },
     "execution_count": 129,
     "metadata": {},
     "output_type": "execute_result"
    }
   ],
   "source": [
    "dataframe_sentimento.head()"
   ]
  },
  {
   "cell_type": "code",
   "execution_count": 130,
   "id": "3aec86a6",
   "metadata": {
    "ExecuteTime": {
     "end_time": "2022-08-01T22:44:52.531083Z",
     "start_time": "2022-08-01T22:44:52.520088Z"
    }
   },
   "outputs": [
    {
     "data": {
      "text/plain": [
       "Neutro    603\n",
       "Name: Sentimento_final, dtype: int64"
      ]
     },
     "execution_count": 130,
     "metadata": {},
     "output_type": "execute_result"
    }
   ],
   "source": [
    "dataframe_sentimento['Sentimento_final'].value_counts()"
   ]
  },
  {
   "cell_type": "code",
   "execution_count": 131,
   "id": "399d32cc",
   "metadata": {
    "ExecuteTime": {
     "end_time": "2022-08-01T22:44:54.458441Z",
     "start_time": "2022-08-01T22:44:54.255565Z"
    }
   },
   "outputs": [
    {
     "data": {
      "text/plain": [
       "<AxesSubplot:xlabel='count', ylabel='Sentimento_final'>"
      ]
     },
     "execution_count": 131,
     "metadata": {},
     "output_type": "execute_result"
    },
    {
     "data": {
      "image/png": "[encoded data removed]",
      "text/plain": [
       "<Figure size 1440x360 with 1 Axes>"
      ]
     },
     "metadata": {
      "needs_background": "light"
     },
     "output_type": "display_data"
    }
   ],
   "source": [
    "plt.figure(figsize=(20, 5))\n",
    "sns.countplot(y='Sentimento_final', data=dataframe_sentimento)\n"
   ]
  },
  {
   "cell_type": "markdown",
   "id": "2ad9af9e",
   "metadata": {
    "ExecuteTime": {
     "end_time": "2022-08-01T22:08:36.295539Z",
     "start_time": "2022-08-01T22:08:36.014168Z"
    }
   },
   "source": [
    "# Lula"
   ]
  },
  {
   "cell_type": "code",
   "execution_count": 132,
   "id": "b467d657",
   "metadata": {
    "ExecuteTime": {
     "end_time": "2022-08-01T22:44:58.107556Z",
     "start_time": "2022-08-01T22:44:58.094563Z"
    }
   },
   "outputs": [
    {
     "data": {
      "text/plain": [
       "array(['Lula'], dtype=object)"
      ]
     },
     "execution_count": 132,
     "metadata": {},
     "output_type": "execute_result"
    }
   ],
   "source": [
    "resultado_filtro_lula = dataframe_sentimento[dataframe_sentimento['Candidato'] == 'Lula']\n",
    "resultado_filtro_lula['Candidato'].unique()"
   ]
  },
  {
   "cell_type": "code",
   "execution_count": 133,
   "id": "57c41747",
   "metadata": {
    "ExecuteTime": {
     "end_time": "2022-08-01T22:44:59.253043Z",
     "start_time": "2022-08-01T22:44:59.039556Z"
    }
   },
   "outputs": [
    {
     "data": {
      "text/plain": [
       "<AxesSubplot:xlabel='count', ylabel='Sentimento_final'>"
      ]
     },
     "execution_count": 133,
     "metadata": {},
     "output_type": "execute_result"
    },
    {
     "data": {
      "image/png": "[encoded data removed]",
      "text/plain": [
       "<Figure size 1440x360 with 1 Axes>"
      ]
     },
     "metadata": {
      "needs_background": "light"
     },
     "output_type": "display_data"
    }
   ],
   "source": [
    "plt.figure(figsize=(20, 5))\n",
    "sns.countplot(y='Sentimento_final', data=resultado_filtro_lula)"
   ]
  },
  {
   "cell_type": "markdown",
   "id": "3d57c890",
   "metadata": {},
   "source": [
    "# Bolsonaro"
   ]
  },
  {
   "cell_type": "code",
   "execution_count": 134,
   "id": "fe895cb3",
   "metadata": {
    "ExecuteTime": {
     "end_time": "2022-08-01T22:45:01.260017Z",
     "start_time": "2022-08-01T22:45:01.247025Z"
    }
   },
   "outputs": [
    {
     "data": {
      "text/plain": [
       "array(['Bolsonaro'], dtype=object)"
      ]
     },
     "execution_count": 134,
     "metadata": {},
     "output_type": "execute_result"
    }
   ],
   "source": [
    "resultado_filtro_bolsonaro = dataframe_sentimento[dataframe_sentimento['Candidato'] == 'Bolsonaro']\n",
    "resultado_filtro_bolsonaro['Candidato'].unique()"
   ]
  },
  {
   "cell_type": "code",
   "execution_count": 135,
   "id": "c1456a1e",
   "metadata": {
    "ExecuteTime": {
     "end_time": "2022-08-01T22:45:02.294401Z",
     "start_time": "2022-08-01T22:45:02.080533Z"
    }
   },
   "outputs": [
    {
     "data": {
      "text/plain": [
       "<AxesSubplot:xlabel='count', ylabel='Sentimento_final'>"
      ]
     },
     "execution_count": 135,
     "metadata": {},
     "output_type": "execute_result"
    },
    {
     "data": {
      "image/png": "[encoded data removed]",
      "text/plain": [
       "<Figure size 1440x360 with 1 Axes>"
      ]
     },
     "metadata": {
      "needs_background": "light"
     },
     "output_type": "display_data"
    }
   ],
   "source": [
    "plt.figure(figsize=(20, 5))\n",
    "sns.countplot(y='Sentimento_final', data=resultado_filtro_bolsonaro)"
   ]
  },
  {
   "cell_type": "markdown",
   "id": "3a4d351e",
   "metadata": {},
   "source": [
    "# Ciro Gomes"
   ]
  },
  {
   "cell_type": "code",
   "execution_count": 136,
   "id": "0277bf93",
   "metadata": {
    "ExecuteTime": {
     "end_time": "2022-08-01T22:45:04.122512Z",
     "start_time": "2022-08-01T22:45:04.111520Z"
    }
   },
   "outputs": [
    {
     "data": {
      "text/plain": [
       "array(['Ciro Gomes'], dtype=object)"
      ]
     },
     "execution_count": 136,
     "metadata": {},
     "output_type": "execute_result"
    }
   ],
   "source": [
    "resultado_filtro_ciro = dataframe_sentimento[dataframe_sentimento['Candidato'] == 'Ciro Gomes']\n",
    "resultado_filtro_ciro['Candidato'].unique()"
   ]
  },
  {
   "cell_type": "code",
   "execution_count": 137,
   "id": "4416abc8",
   "metadata": {
    "ExecuteTime": {
     "end_time": "2022-08-01T22:45:05.015862Z",
     "start_time": "2022-08-01T22:45:04.806987Z"
    }
   },
   "outputs": [
    {
     "data": {
      "text/plain": [
       "<AxesSubplot:xlabel='count', ylabel='Sentimento_final'>"
      ]
     },
     "execution_count": 137,
     "metadata": {},
     "output_type": "execute_result"
    },
    {
     "data": {
      "image/png": "[encoded data removed]",
      "text/plain": [
       "<Figure size 1440x360 with 1 Axes>"
      ]
     },
     "metadata": {
      "needs_background": "light"
     },
     "output_type": "display_data"
    }
   ],
   "source": [
    "plt.figure(figsize=(20, 5))\n",
    "sns.countplot(y='Sentimento_final', data=resultado_filtro_ciro)"
   ]
  },
  {
   "cell_type": "code",
   "execution_count": 146,
   "id": "247aadbc",
   "metadata": {
    "ExecuteTime": {
     "end_time": "2022-08-01T22:58:35.166080Z",
     "start_time": "2022-08-01T22:58:35.146092Z"
    }
   },
   "outputs": [
    {
     "data": {
      "text/html": [
       "<div>\n",
       "<style scoped>\n",
       "    .dataframe tbody tr th:only-of-type {\n",
       "        vertical-align: middle;\n",
       "    }\n",
       "\n",
       "    .dataframe tbody tr th {\n",
       "        vertical-align: top;\n",
       "    }\n",
       "\n",
       "    .dataframe thead th {\n",
       "        text-align: right;\n",
       "    }\n",
       "</style>\n",
       "<table border=\"1\" class=\"dataframe\">\n",
       "  <thead>\n",
       "    <tr style=\"text-align: right;\">\n",
       "      <th></th>\n",
       "      <th>Data_Hora</th>\n",
       "      <th>Id_Tweet</th>\n",
       "      <th>Tweet</th>\n",
       "      <th>Candidato</th>\n",
       "      <th>Tweet_limpo</th>\n",
       "      <th>Sentimento_final</th>\n",
       "    </tr>\n",
       "  </thead>\n",
       "  <tbody>\n",
       "    <tr>\n",
       "      <th>0</th>\n",
       "      <td>2022-08-01 22:42:31+00:00</td>\n",
       "      <td>1554236160322539524</td>\n",
       "      <td>@ptbrasil @LulaOficial Na urra eletrônica frau...</td>\n",
       "      <td>Lula</td>\n",
       "      <td>na urra eletrônica fraudada você quer dizer ...</td>\n",
       "      <td>Neutro</td>\n",
       "    </tr>\n",
       "    <tr>\n",
       "      <th>1</th>\n",
       "      <td>2022-08-01 22:42:31+00:00</td>\n",
       "      <td>1554236158992961537</td>\n",
       "      <td>@LulaOficial @ricardostuckert Esse mente</td>\n",
       "      <td>Lula</td>\n",
       "      <td>esse mente</td>\n",
       "      <td>Neutro</td>\n",
       "    </tr>\n",
       "    <tr>\n",
       "      <th>2</th>\n",
       "      <td>2022-08-01 22:42:29+00:00</td>\n",
       "      <td>1554236153099870208</td>\n",
       "      <td>@AdamBravo79 @AnarcoFino \"Muito melhor\" : \\nDe...</td>\n",
       "      <td>Lula</td>\n",
       "      <td>\"muito melhor\" : desistir da campanha apoiar...</td>\n",
       "      <td>Neutro</td>\n",
       "    </tr>\n",
       "    <tr>\n",
       "      <th>3</th>\n",
       "      <td>2022-08-01 22:42:29+00:00</td>\n",
       "      <td>1554236151858331648</td>\n",
       "      <td>@extraclassejor No Rio Grande do Sul, Edgar Pr...</td>\n",
       "      <td>Lula</td>\n",
       "      <td>no rio grande do sul, edgar pretto governador...</td>\n",
       "      <td>Neutro</td>\n",
       "    </tr>\n",
       "    <tr>\n",
       "      <th>4</th>\n",
       "      <td>2022-08-01 22:42:26+00:00</td>\n",
       "      <td>1554236139636129792</td>\n",
       "      <td>@LulaOficial @ricardostuckert https://t.co/vMx...</td>\n",
       "      <td>Lula</td>\n",
       "      <td></td>\n",
       "      <td>Neutro</td>\n",
       "    </tr>\n",
       "  </tbody>\n",
       "</table>\n",
       "</div>"
      ],
      "text/plain": [
       "                   Data_Hora             Id_Tweet  \\\n",
       "0  2022-08-01 22:42:31+00:00  1554236160322539524   \n",
       "1  2022-08-01 22:42:31+00:00  1554236158992961537   \n",
       "2  2022-08-01 22:42:29+00:00  1554236153099870208   \n",
       "3  2022-08-01 22:42:29+00:00  1554236151858331648   \n",
       "4  2022-08-01 22:42:26+00:00  1554236139636129792   \n",
       "\n",
       "                                               Tweet Candidato  \\\n",
       "0  @ptbrasil @LulaOficial Na urra eletrônica frau...      Lula   \n",
       "1           @LulaOficial @ricardostuckert Esse mente      Lula   \n",
       "2  @AdamBravo79 @AnarcoFino \"Muito melhor\" : \\nDe...      Lula   \n",
       "3  @extraclassejor No Rio Grande do Sul, Edgar Pr...      Lula   \n",
       "4  @LulaOficial @ricardostuckert https://t.co/vMx...      Lula   \n",
       "\n",
       "                                         Tweet_limpo Sentimento_final  \n",
       "0    na urra eletrônica fraudada você quer dizer ...           Neutro  \n",
       "1                                         esse mente           Neutro  \n",
       "2    \"muito melhor\" : desistir da campanha apoiar...           Neutro  \n",
       "3   no rio grande do sul, edgar pretto governador...           Neutro  \n",
       "4                                                              Neutro  "
      ]
     },
     "execution_count": 146,
     "metadata": {},
     "output_type": "execute_result"
    }
   ],
   "source": [
    "data_frame_final = dataframe_sentimento[['Data_Hora', 'Id_Tweet', 'Tweet', 'Candidato', 'Tweet_limpo', 'Sentimento_final']]\n",
    "data_frame_final.head()"
   ]
  },
  {
   "cell_type": "code",
   "execution_count": 148,
   "id": "0df7afb8",
   "metadata": {
    "ExecuteTime": {
     "end_time": "2022-08-01T23:00:36.304238Z",
     "start_time": "2022-08-01T23:00:36.242271Z"
    }
   },
   "outputs": [],
   "source": [
    "data_frame_final.to_csv('data_frame_final.csv', sep=',', index=False)"
   ]
  },
  {
   "cell_type": "code",
   "execution_count": null,
   "id": "7742068d",
   "metadata": {},
   "outputs": [],
   "source": []
  }
 ],
 "metadata": {
  "kernelspec": {
   "display_name": "Python 3 (ipykernel)",
   "language": "python",
   "name": "python3"
  },
  "language_info": {
   "codemirror_mode": {
    "name": "ipython",
    "version": 3
   },
   "file_extension": ".py",
   "mimetype": "text/x-python",
   "name": "python",
   "nbconvert_exporter": "python",
   "pygments_lexer": "ipython3",
   "version": "3.9.7"
  }
 },
 "nbformat": 4,
 "nbformat_minor": 5
}
