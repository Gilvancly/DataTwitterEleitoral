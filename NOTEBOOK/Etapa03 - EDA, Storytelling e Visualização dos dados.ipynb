{
 "cells": [
  {
   "cell_type": "markdown",
   "id": "f6a9734c",
   "metadata": {},
   "source": [
    "# Etapa03 - EDA, Storytelling e Visualização dos dados"
   ]
  },
  {
   "cell_type": "code",
   "execution_count": 35,
   "id": "cbbb2618",
   "metadata": {
    "ExecuteTime": {
     "end_time": "2022-08-01T22:43:43.326049Z",
     "start_time": "2022-08-01T22:43:43.321050Z"
    }
   },
   "outputs": [],
   "source": [
    "import pandas as pd\n",
    "import re"
   ]
  },
  {
   "cell_type": "code",
   "execution_count": 36,
   "id": "c9b6f112",
   "metadata": {
    "ExecuteTime": {
     "end_time": "2022-08-01T22:43:44.791634Z",
     "start_time": "2022-08-01T22:43:44.607056Z"
    }
   },
   "outputs": [],
   "source": [
    "dataframe_final_candidatos = pd.read_csv(r'C:\\Users\\Gilvancly\\Documents\\PROGRAMAÇÃO\\PROJETOS\\DATA TWITTER ELEITORAL\\CONJUNTO DE DADOS\\etapa02_dataframe_final_candidatos.csv')"
   ]
  },
  {
   "cell_type": "code",
   "execution_count": 37,
   "id": "55c8437b",
   "metadata": {
    "ExecuteTime": {
     "end_time": "2022-08-01T22:43:46.503443Z",
     "start_time": "2022-08-01T22:43:46.225034Z"
    }
   },
   "outputs": [
    {
     "data": {
      "text/html": [
       "<div>\n",
       "<style scoped>\n",
       "    .dataframe tbody tr th:only-of-type {\n",
       "        vertical-align: middle;\n",
       "    }\n",
       "\n",
       "    .dataframe tbody tr th {\n",
       "        vertical-align: top;\n",
       "    }\n",
       "\n",
       "    .dataframe thead th {\n",
       "        text-align: right;\n",
       "    }\n",
       "</style>\n",
       "<table border=\"1\" class=\"dataframe\">\n",
       "  <thead>\n",
       "    <tr style=\"text-align: right;\">\n",
       "      <th></th>\n",
       "      <th>Data_Hora</th>\n",
       "      <th>Id_Tweet</th>\n",
       "      <th>Tweet</th>\n",
       "      <th>Candidato</th>\n",
       "      <th>Tweet_limpo</th>\n",
       "    </tr>\n",
       "  </thead>\n",
       "  <tbody>\n",
       "    <tr>\n",
       "      <th>0</th>\n",
       "      <td>2022-08-01 22:42:31+00:00</td>\n",
       "      <td>1554236160322539524</td>\n",
       "      <td>@ptbrasil @LulaOficial Na urra eletrônica frau...</td>\n",
       "      <td>Lula</td>\n",
       "      <td>@ptbrasil @LulaOficial Na urra eletrônica frau...</td>\n",
       "    </tr>\n",
       "    <tr>\n",
       "      <th>1</th>\n",
       "      <td>2022-08-01 22:42:31+00:00</td>\n",
       "      <td>1554236158992961537</td>\n",
       "      <td>@LulaOficial @ricardostuckert Esse mente</td>\n",
       "      <td>Lula</td>\n",
       "      <td>@LulaOficial @ricardostuckert Esse mente</td>\n",
       "    </tr>\n",
       "    <tr>\n",
       "      <th>2</th>\n",
       "      <td>2022-08-01 22:42:29+00:00</td>\n",
       "      <td>1554236153099870208</td>\n",
       "      <td>@AdamBravo79 @AnarcoFino \"Muito melhor\" : \\nDe...</td>\n",
       "      <td>Lula</td>\n",
       "      <td>@AdamBravo79 @AnarcoFino \"Muito melhor\" : \\nDe...</td>\n",
       "    </tr>\n",
       "    <tr>\n",
       "      <th>3</th>\n",
       "      <td>2022-08-01 22:42:29+00:00</td>\n",
       "      <td>1554236151858331648</td>\n",
       "      <td>@extraclassejor No Rio Grande do Sul, Edgar Pr...</td>\n",
       "      <td>Lula</td>\n",
       "      <td>@extraclassejor No Rio Grande do Sul, Edgar Pr...</td>\n",
       "    </tr>\n",
       "    <tr>\n",
       "      <th>4</th>\n",
       "      <td>2022-08-01 22:42:26+00:00</td>\n",
       "      <td>1554236139636129792</td>\n",
       "      <td>@LulaOficial @ricardostuckert https://t.co/vMx...</td>\n",
       "      <td>Lula</td>\n",
       "      <td>@LulaOficial @ricardostuckert https://t.co/vMx...</td>\n",
       "    </tr>\n",
       "  </tbody>\n",
       "</table>\n",
       "</div>"
      ],
      "text/plain": [
       "                   Data_Hora             Id_Tweet  \\\n",
       "0  2022-08-01 22:42:31+00:00  1554236160322539524   \n",
       "1  2022-08-01 22:42:31+00:00  1554236158992961537   \n",
       "2  2022-08-01 22:42:29+00:00  1554236153099870208   \n",
       "3  2022-08-01 22:42:29+00:00  1554236151858331648   \n",
       "4  2022-08-01 22:42:26+00:00  1554236139636129792   \n",
       "\n",
       "                                               Tweet Candidato  \\\n",
       "0  @ptbrasil @LulaOficial Na urra eletrônica frau...      Lula   \n",
       "1           @LulaOficial @ricardostuckert Esse mente      Lula   \n",
       "2  @AdamBravo79 @AnarcoFino \"Muito melhor\" : \\nDe...      Lula   \n",
       "3  @extraclassejor No Rio Grande do Sul, Edgar Pr...      Lula   \n",
       "4  @LulaOficial @ricardostuckert https://t.co/vMx...      Lula   \n",
       "\n",
       "                                         Tweet_limpo  \n",
       "0  @ptbrasil @LulaOficial Na urra eletrônica frau...  \n",
       "1           @LulaOficial @ricardostuckert Esse mente  \n",
       "2  @AdamBravo79 @AnarcoFino \"Muito melhor\" : \\nDe...  \n",
       "3  @extraclassejor No Rio Grande do Sul, Edgar Pr...  \n",
       "4  @LulaOficial @ricardostuckert https://t.co/vMx...  "
      ]
     },
     "execution_count": 37,
     "metadata": {},
     "output_type": "execute_result"
    }
   ],
   "source": [
    "dataframe_final_candidatos['Tweet_limpo'] = dataframe_final_candidatos['Tweet']\n",
    "dataframe_final_candidatos.head()"
   ]
  },
  {
   "cell_type": "code",
   "execution_count": 38,
   "id": "3dc45e3d",
   "metadata": {
    "ExecuteTime": {
     "end_time": "2022-08-01T22:43:48.200026Z",
     "start_time": "2022-08-01T22:43:48.192030Z"
    }
   },
   "outputs": [],
   "source": [
    "def limpeza_do_texto(tweet):\n",
    "    tweet = tweet.lower()\n",
    "    tweet = re.sub('\\n', '', tweet)\n",
    "    tweet = re.sub('@[^\\s]+', '', tweet)\n",
    "    tweet = re.sub('\\B#\\S+', '', tweet)\n",
    "    tweet = re.sub('https?://\\S+|www\\.\\S+', '', tweet)\n",
    "    return tweet"
   ]
  },
  {
   "cell_type": "code",
   "execution_count": 39,
   "id": "0894d3e0",
   "metadata": {
    "ExecuteTime": {
     "end_time": "2022-08-01T22:43:56.748659Z",
     "start_time": "2022-08-01T22:43:56.310975Z"
    }
   },
   "outputs": [],
   "source": [
    "dataframe_final_candidatos['Tweet_limpo'] = dataframe_final_candidatos['Tweet'].apply(lambda i:limpeza_do_texto(i))"
   ]
  },
  {
   "cell_type": "code",
   "execution_count": 40,
   "id": "b5282810",
   "metadata": {
    "ExecuteTime": {
     "end_time": "2022-08-01T22:43:57.239209Z",
     "start_time": "2022-08-01T22:43:57.113000Z"
    }
   },
   "outputs": [
    {
     "data": {
      "text/html": [
       "<div>\n",
       "<style scoped>\n",
       "    .dataframe tbody tr th:only-of-type {\n",
       "        vertical-align: middle;\n",
       "    }\n",
       "\n",
       "    .dataframe tbody tr th {\n",
       "        vertical-align: top;\n",
       "    }\n",
       "\n",
       "    .dataframe thead th {\n",
       "        text-align: right;\n",
       "    }\n",
       "</style>\n",
       "<table border=\"1\" class=\"dataframe\">\n",
       "  <thead>\n",
       "    <tr style=\"text-align: right;\">\n",
       "      <th></th>\n",
       "      <th>Data_Hora</th>\n",
       "      <th>Id_Tweet</th>\n",
       "      <th>Tweet</th>\n",
       "      <th>Candidato</th>\n",
       "      <th>Tweet_limpo</th>\n",
       "    </tr>\n",
       "  </thead>\n",
       "  <tbody>\n",
       "    <tr>\n",
       "      <th>0</th>\n",
       "      <td>2022-08-01 22:42:31+00:00</td>\n",
       "      <td>1554236160322539524</td>\n",
       "      <td>@ptbrasil @LulaOficial Na urra eletrônica frau...</td>\n",
       "      <td>Lula</td>\n",
       "      <td>na urra eletrônica fraudada você quer dizer ...</td>\n",
       "    </tr>\n",
       "    <tr>\n",
       "      <th>1</th>\n",
       "      <td>2022-08-01 22:42:31+00:00</td>\n",
       "      <td>1554236158992961537</td>\n",
       "      <td>@LulaOficial @ricardostuckert Esse mente</td>\n",
       "      <td>Lula</td>\n",
       "      <td>esse mente</td>\n",
       "    </tr>\n",
       "    <tr>\n",
       "      <th>2</th>\n",
       "      <td>2022-08-01 22:42:29+00:00</td>\n",
       "      <td>1554236153099870208</td>\n",
       "      <td>@AdamBravo79 @AnarcoFino \"Muito melhor\" : \\nDe...</td>\n",
       "      <td>Lula</td>\n",
       "      <td>\"muito melhor\" : desistir da campanha apoiar...</td>\n",
       "    </tr>\n",
       "    <tr>\n",
       "      <th>3</th>\n",
       "      <td>2022-08-01 22:42:29+00:00</td>\n",
       "      <td>1554236151858331648</td>\n",
       "      <td>@extraclassejor No Rio Grande do Sul, Edgar Pr...</td>\n",
       "      <td>Lula</td>\n",
       "      <td>no rio grande do sul, edgar pretto governador...</td>\n",
       "    </tr>\n",
       "    <tr>\n",
       "      <th>4</th>\n",
       "      <td>2022-08-01 22:42:26+00:00</td>\n",
       "      <td>1554236139636129792</td>\n",
       "      <td>@LulaOficial @ricardostuckert https://t.co/vMx...</td>\n",
       "      <td>Lula</td>\n",
       "      <td></td>\n",
       "    </tr>\n",
       "  </tbody>\n",
       "</table>\n",
       "</div>"
      ],
      "text/plain": [
       "                   Data_Hora             Id_Tweet  \\\n",
       "0  2022-08-01 22:42:31+00:00  1554236160322539524   \n",
       "1  2022-08-01 22:42:31+00:00  1554236158992961537   \n",
       "2  2022-08-01 22:42:29+00:00  1554236153099870208   \n",
       "3  2022-08-01 22:42:29+00:00  1554236151858331648   \n",
       "4  2022-08-01 22:42:26+00:00  1554236139636129792   \n",
       "\n",
       "                                               Tweet Candidato  \\\n",
       "0  @ptbrasil @LulaOficial Na urra eletrônica frau...      Lula   \n",
       "1           @LulaOficial @ricardostuckert Esse mente      Lula   \n",
       "2  @AdamBravo79 @AnarcoFino \"Muito melhor\" : \\nDe...      Lula   \n",
       "3  @extraclassejor No Rio Grande do Sul, Edgar Pr...      Lula   \n",
       "4  @LulaOficial @ricardostuckert https://t.co/vMx...      Lula   \n",
       "\n",
       "                                         Tweet_limpo  \n",
       "0    na urra eletrônica fraudada você quer dizer ...  \n",
       "1                                         esse mente  \n",
       "2    \"muito melhor\" : desistir da campanha apoiar...  \n",
       "3   no rio grande do sul, edgar pretto governador...  \n",
       "4                                                     "
      ]
     },
     "execution_count": 40,
     "metadata": {},
     "output_type": "execute_result"
    }
   ],
   "source": [
    "dataframe_final_candidatos.head()"
   ]
  },
  {
   "cell_type": "code",
   "execution_count": 41,
   "id": "004ba981",
   "metadata": {
    "ExecuteTime": {
     "end_time": "2022-08-01T22:44:00.198409Z",
     "start_time": "2022-08-01T22:44:00.168070Z"
    }
   },
   "outputs": [],
   "source": [
    "dataframe_final_candidatos.to_csv('etapa03_dataframe_final_candidatos_pronto_para_sentimento.csv', sep=',', index=False)"
   ]
  },
  {
   "cell_type": "code",
   "execution_count": null,
   "id": "28687f6e",
   "metadata": {},
   "outputs": [],
   "source": []
  }
 ],
 "metadata": {
  "kernelspec": {
   "display_name": "Python 3 (ipykernel)",
   "language": "python",
   "name": "python3"
  },
  "language_info": {
   "codemirror_mode": {
    "name": "ipython",
    "version": 3
   },
   "file_extension": ".py",
   "mimetype": "text/x-python",
   "name": "python",
   "nbconvert_exporter": "python",
   "pygments_lexer": "ipython3",
   "version": "3.9.7"
  }
 },
 "nbformat": 4,
 "nbformat_minor": 5
}
