{
 "cells": [
  {
   "cell_type": "markdown",
   "id": "92150775",
   "metadata": {},
   "source": [
    "# Apresentação do projeto\n",
    "Proposta para construção de uma aplicação que realiza análise de sentimento dos candidatos à presidência da República Federativa do Brasil."
   ]
  },
  {
   "cell_type": "markdown",
   "id": "d577303b",
   "metadata": {},
   "source": [
    "Instalação das Bibliotecas"
   ]
  },
  {
   "cell_type": "code",
   "execution_count": 31,
   "id": "2907c59d",
   "metadata": {
    "ExecuteTime": {
     "end_time": "2022-08-01T22:42:25.321706Z",
     "start_time": "2022-08-01T22:42:19.896934Z"
    }
   },
   "outputs": [
    {
     "name": "stdout",
     "output_type": "stream",
     "text": [
      "Requirement already satisfied: snscrape in c:\\users\\gilvancly\\anaconda3\\lib\\site-packages (0.4.3.20220106)\n",
      "Requirement already satisfied: beautifulsoup4 in c:\\users\\gilvancly\\anaconda3\\lib\\site-packages (from snscrape) (4.10.0)\n",
      "Requirement already satisfied: filelock in c:\\users\\gilvancly\\anaconda3\\lib\\site-packages (from snscrape) (3.3.1)\n",
      "Requirement already satisfied: lxml in c:\\users\\gilvancly\\anaconda3\\lib\\site-packages (from snscrape) (4.6.3)\n",
      "Requirement already satisfied: requests[socks] in c:\\users\\gilvancly\\anaconda3\\lib\\site-packages (from snscrape) (2.26.0)\n",
      "Requirement already satisfied: soupsieve>1.2 in c:\\users\\gilvancly\\anaconda3\\lib\\site-packages (from beautifulsoup4->snscrape) (2.2.1)\n",
      "Requirement already satisfied: urllib3<1.27,>=1.21.1 in c:\\users\\gilvancly\\anaconda3\\lib\\site-packages (from requests[socks]->snscrape) (1.26.7)\n",
      "Requirement already satisfied: charset-normalizer~=2.0.0 in c:\\users\\gilvancly\\anaconda3\\lib\\site-packages (from requests[socks]->snscrape) (2.0.4)\n",
      "Requirement already satisfied: certifi>=2017.4.17 in c:\\users\\gilvancly\\anaconda3\\lib\\site-packages (from requests[socks]->snscrape) (2021.10.8)\n",
      "Requirement already satisfied: idna<4,>=2.5 in c:\\users\\gilvancly\\anaconda3\\lib\\site-packages (from requests[socks]->snscrape) (3.2)\n",
      "Requirement already satisfied: PySocks!=1.5.7,>=1.5.6 in c:\\users\\gilvancly\\anaconda3\\lib\\site-packages (from requests[socks]->snscrape) (1.7.1)\n",
      "Note: you may need to restart the kernel to use updated packages.\n"
     ]
    }
   ],
   "source": [
    "pip install snscrape"
   ]
  },
  {
   "cell_type": "markdown",
   "id": "59fea5f3",
   "metadata": {},
   "source": [
    "Importando as Bibliotecas"
   ]
  },
  {
   "cell_type": "code",
   "execution_count": 32,
   "id": "ff5b4ed4",
   "metadata": {
    "ExecuteTime": {
     "end_time": "2022-08-01T22:42:27.731568Z",
     "start_time": "2022-08-01T22:42:27.728570Z"
    }
   },
   "outputs": [],
   "source": [
    "import snscrape.modules.twitter as sntwitter\n",
    "import pandas as pd"
   ]
  },
  {
   "cell_type": "code",
   "execution_count": 33,
   "id": "27a87b39",
   "metadata": {
    "ExecuteTime": {
     "end_time": "2022-08-01T22:42:28.678782Z",
     "start_time": "2022-08-01T22:42:28.673785Z"
    }
   },
   "outputs": [],
   "source": [
    "max_tweets = 200"
   ]
  },
  {
   "cell_type": "markdown",
   "id": "962c5a7b",
   "metadata": {},
   "source": [
    "# Lula"
   ]
  },
  {
   "cell_type": "code",
   "execution_count": 34,
   "id": "57e9de2f",
   "metadata": {
    "ExecuteTime": {
     "end_time": "2022-08-01T22:42:29.662432Z",
     "start_time": "2022-08-01T22:42:29.656435Z"
    }
   },
   "outputs": [],
   "source": [
    "lista_tweets_lula = []"
   ]
  },
  {
   "cell_type": "code",
   "execution_count": 35,
   "id": "aa06bcea",
   "metadata": {
    "ExecuteTime": {
     "end_time": "2022-08-01T22:42:38.560771Z",
     "start_time": "2022-08-01T22:42:30.736261Z"
    }
   },
   "outputs": [],
   "source": [
    "for i, tweet in enumerate(sntwitter.TwitterSearchScraper('lula').get_items()):\n",
    "    if i > max_tweets:\n",
    "        break\n",
    "    lista_tweets_lula.append([tweet.date, tweet.id, tweet.content])"
   ]
  },
  {
   "cell_type": "code",
   "execution_count": 36,
   "id": "0a4110da",
   "metadata": {
    "ExecuteTime": {
     "end_time": "2022-08-01T22:42:38.611749Z",
     "start_time": "2022-08-01T22:42:38.566775Z"
    }
   },
   "outputs": [
    {
     "data": {
      "text/html": [
       "<div>\n",
       "<style scoped>\n",
       "    .dataframe tbody tr th:only-of-type {\n",
       "        vertical-align: middle;\n",
       "    }\n",
       "\n",
       "    .dataframe tbody tr th {\n",
       "        vertical-align: top;\n",
       "    }\n",
       "\n",
       "    .dataframe thead th {\n",
       "        text-align: right;\n",
       "    }\n",
       "</style>\n",
       "<table border=\"1\" class=\"dataframe\">\n",
       "  <thead>\n",
       "    <tr style=\"text-align: right;\">\n",
       "      <th></th>\n",
       "      <th>Data_Hora</th>\n",
       "      <th>Id_Tweet</th>\n",
       "      <th>Tweet</th>\n",
       "      <th>Candidato</th>\n",
       "    </tr>\n",
       "  </thead>\n",
       "  <tbody>\n",
       "    <tr>\n",
       "      <th>0</th>\n",
       "      <td>2022-08-01 22:42:31+00:00</td>\n",
       "      <td>1554236160322539524</td>\n",
       "      <td>@ptbrasil @LulaOficial Na urra eletrônica frau...</td>\n",
       "      <td>Lula</td>\n",
       "    </tr>\n",
       "    <tr>\n",
       "      <th>1</th>\n",
       "      <td>2022-08-01 22:42:31+00:00</td>\n",
       "      <td>1554236158992961537</td>\n",
       "      <td>@LulaOficial @ricardostuckert Esse mente</td>\n",
       "      <td>Lula</td>\n",
       "    </tr>\n",
       "    <tr>\n",
       "      <th>2</th>\n",
       "      <td>2022-08-01 22:42:29+00:00</td>\n",
       "      <td>1554236153099870208</td>\n",
       "      <td>@AdamBravo79 @AnarcoFino \"Muito melhor\" : \\nDe...</td>\n",
       "      <td>Lula</td>\n",
       "    </tr>\n",
       "    <tr>\n",
       "      <th>3</th>\n",
       "      <td>2022-08-01 22:42:29+00:00</td>\n",
       "      <td>1554236151858331648</td>\n",
       "      <td>@extraclassejor No Rio Grande do Sul, Edgar Pr...</td>\n",
       "      <td>Lula</td>\n",
       "    </tr>\n",
       "    <tr>\n",
       "      <th>4</th>\n",
       "      <td>2022-08-01 22:42:26+00:00</td>\n",
       "      <td>1554236139636129792</td>\n",
       "      <td>@LulaOficial @ricardostuckert https://t.co/vMx...</td>\n",
       "      <td>Lula</td>\n",
       "    </tr>\n",
       "  </tbody>\n",
       "</table>\n",
       "</div>"
      ],
      "text/plain": [
       "                  Data_Hora             Id_Tweet  \\\n",
       "0 2022-08-01 22:42:31+00:00  1554236160322539524   \n",
       "1 2022-08-01 22:42:31+00:00  1554236158992961537   \n",
       "2 2022-08-01 22:42:29+00:00  1554236153099870208   \n",
       "3 2022-08-01 22:42:29+00:00  1554236151858331648   \n",
       "4 2022-08-01 22:42:26+00:00  1554236139636129792   \n",
       "\n",
       "                                               Tweet Candidato  \n",
       "0  @ptbrasil @LulaOficial Na urra eletrônica frau...      Lula  \n",
       "1           @LulaOficial @ricardostuckert Esse mente      Lula  \n",
       "2  @AdamBravo79 @AnarcoFino \"Muito melhor\" : \\nDe...      Lula  \n",
       "3  @extraclassejor No Rio Grande do Sul, Edgar Pr...      Lula  \n",
       "4  @LulaOficial @ricardostuckert https://t.co/vMx...      Lula  "
      ]
     },
     "execution_count": 36,
     "metadata": {},
     "output_type": "execute_result"
    }
   ],
   "source": [
    "dataframe_tweet_lula = pd.DataFrame(lista_tweets_lula, columns=['Data_Hora', 'Id_Tweet', 'Tweet'])\n",
    "dataframe_tweet_lula['Candidato'] = 'Lula'\n",
    "dataframe_tweet_lula.head()"
   ]
  },
  {
   "cell_type": "markdown",
   "id": "96179a3a",
   "metadata": {},
   "source": [
    "# Bolsonaro"
   ]
  },
  {
   "cell_type": "code",
   "execution_count": 37,
   "id": "63ea0300",
   "metadata": {
    "ExecuteTime": {
     "end_time": "2022-08-01T22:42:42.461466Z",
     "start_time": "2022-08-01T22:42:42.456470Z"
    }
   },
   "outputs": [],
   "source": [
    "lista_tweets_bolsonaro = []"
   ]
  },
  {
   "cell_type": "code",
   "execution_count": 38,
   "id": "18da96e7",
   "metadata": {
    "ExecuteTime": {
     "end_time": "2022-08-01T22:42:50.183703Z",
     "start_time": "2022-08-01T22:42:43.167457Z"
    }
   },
   "outputs": [],
   "source": [
    "for i, tweet in enumerate(sntwitter.TwitterSearchScraper('bolsonaro').get_items()):\n",
    "    if i > max_tweets:\n",
    "        break\n",
    "    lista_tweets_bolsonaro.append([tweet.date, tweet.id, tweet.content])"
   ]
  },
  {
   "cell_type": "code",
   "execution_count": 39,
   "id": "9b8e037a",
   "metadata": {
    "ExecuteTime": {
     "end_time": "2022-08-01T22:42:50.238654Z",
     "start_time": "2022-08-01T22:42:50.189688Z"
    }
   },
   "outputs": [
    {
     "data": {
      "text/html": [
       "<div>\n",
       "<style scoped>\n",
       "    .dataframe tbody tr th:only-of-type {\n",
       "        vertical-align: middle;\n",
       "    }\n",
       "\n",
       "    .dataframe tbody tr th {\n",
       "        vertical-align: top;\n",
       "    }\n",
       "\n",
       "    .dataframe thead th {\n",
       "        text-align: right;\n",
       "    }\n",
       "</style>\n",
       "<table border=\"1\" class=\"dataframe\">\n",
       "  <thead>\n",
       "    <tr style=\"text-align: right;\">\n",
       "      <th></th>\n",
       "      <th>Data_Hora</th>\n",
       "      <th>Id_Tweet</th>\n",
       "      <th>Tweet</th>\n",
       "      <th>Candidato</th>\n",
       "    </tr>\n",
       "  </thead>\n",
       "  <tbody>\n",
       "    <tr>\n",
       "      <th>0</th>\n",
       "      <td>2022-08-01 22:42:42+00:00</td>\n",
       "      <td>1554236207713902592</td>\n",
       "      <td>@senadorhumberto @LulaOficial Boa noite , Bols...</td>\n",
       "      <td>Bolsonaro</td>\n",
       "    </tr>\n",
       "    <tr>\n",
       "      <th>1</th>\n",
       "      <td>2022-08-01 22:42:41+00:00</td>\n",
       "      <td>1554236201967796226</td>\n",
       "      <td>@UOLNoticias Só falta o UOL ‘noticiar’ que foi...</td>\n",
       "      <td>Bolsonaro</td>\n",
       "    </tr>\n",
       "    <tr>\n",
       "      <th>2</th>\n",
       "      <td>2022-08-01 22:42:40+00:00</td>\n",
       "      <td>1554236198658400256</td>\n",
       "      <td>PIX CONSERVADOR 🇧🇷\\nApoie a @ConservadorCasa p...</td>\n",
       "      <td>Bolsonaro</td>\n",
       "    </tr>\n",
       "    <tr>\n",
       "      <th>3</th>\n",
       "      <td>2022-08-01 22:42:40+00:00</td>\n",
       "      <td>1554236197630889987</td>\n",
       "      <td>O Presidente sabe que as urnas funcionam, mas ...</td>\n",
       "      <td>Bolsonaro</td>\n",
       "    </tr>\n",
       "    <tr>\n",
       "      <th>4</th>\n",
       "      <td>2022-08-01 22:42:38+00:00</td>\n",
       "      <td>1554236189925941251</td>\n",
       "      <td>@JoseMedeirosMT @PascoalAbril @jairbolsonaro J...</td>\n",
       "      <td>Bolsonaro</td>\n",
       "    </tr>\n",
       "  </tbody>\n",
       "</table>\n",
       "</div>"
      ],
      "text/plain": [
       "                  Data_Hora             Id_Tweet  \\\n",
       "0 2022-08-01 22:42:42+00:00  1554236207713902592   \n",
       "1 2022-08-01 22:42:41+00:00  1554236201967796226   \n",
       "2 2022-08-01 22:42:40+00:00  1554236198658400256   \n",
       "3 2022-08-01 22:42:40+00:00  1554236197630889987   \n",
       "4 2022-08-01 22:42:38+00:00  1554236189925941251   \n",
       "\n",
       "                                               Tweet  Candidato  \n",
       "0  @senadorhumberto @LulaOficial Boa noite , Bols...  Bolsonaro  \n",
       "1  @UOLNoticias Só falta o UOL ‘noticiar’ que foi...  Bolsonaro  \n",
       "2  PIX CONSERVADOR 🇧🇷\\nApoie a @ConservadorCasa p...  Bolsonaro  \n",
       "3  O Presidente sabe que as urnas funcionam, mas ...  Bolsonaro  \n",
       "4  @JoseMedeirosMT @PascoalAbril @jairbolsonaro J...  Bolsonaro  "
      ]
     },
     "execution_count": 39,
     "metadata": {},
     "output_type": "execute_result"
    }
   ],
   "source": [
    "dataframe_tweet_bolsonaro = pd.DataFrame(lista_tweets_bolsonaro, columns=['Data_Hora', 'Id_Tweet', 'Tweet'])\n",
    "dataframe_tweet_bolsonaro['Candidato'] = 'Bolsonaro'\n",
    "dataframe_tweet_bolsonaro.head()"
   ]
  },
  {
   "cell_type": "markdown",
   "id": "b98bd719",
   "metadata": {},
   "source": [
    "# Ciro Gomes"
   ]
  },
  {
   "cell_type": "code",
   "execution_count": 40,
   "id": "9377b2ab",
   "metadata": {
    "ExecuteTime": {
     "end_time": "2022-08-01T22:42:52.997189Z",
     "start_time": "2022-08-01T22:42:52.991195Z"
    }
   },
   "outputs": [],
   "source": [
    "lista_tweets_ciro = []"
   ]
  },
  {
   "cell_type": "code",
   "execution_count": 41,
   "id": "af4dbde6",
   "metadata": {
    "ExecuteTime": {
     "end_time": "2022-08-01T22:42:59.808103Z",
     "start_time": "2022-08-01T22:42:53.408620Z"
    }
   },
   "outputs": [],
   "source": [
    "for i, tweet in enumerate(sntwitter.TwitterSearchScraper('ciro gomes').get_items()):\n",
    "    if i > max_tweets:\n",
    "        break\n",
    "    lista_tweets_ciro.append([tweet.date, tweet.id, tweet.content])"
   ]
  },
  {
   "cell_type": "code",
   "execution_count": 42,
   "id": "961d904f",
   "metadata": {
    "ExecuteTime": {
     "end_time": "2022-08-01T22:42:59.849078Z",
     "start_time": "2022-08-01T22:42:59.815100Z"
    }
   },
   "outputs": [
    {
     "data": {
      "text/html": [
       "<div>\n",
       "<style scoped>\n",
       "    .dataframe tbody tr th:only-of-type {\n",
       "        vertical-align: middle;\n",
       "    }\n",
       "\n",
       "    .dataframe tbody tr th {\n",
       "        vertical-align: top;\n",
       "    }\n",
       "\n",
       "    .dataframe thead th {\n",
       "        text-align: right;\n",
       "    }\n",
       "</style>\n",
       "<table border=\"1\" class=\"dataframe\">\n",
       "  <thead>\n",
       "    <tr style=\"text-align: right;\">\n",
       "      <th></th>\n",
       "      <th>Data_Hora</th>\n",
       "      <th>Id_Tweet</th>\n",
       "      <th>Tweet</th>\n",
       "      <th>Candidato</th>\n",
       "    </tr>\n",
       "  </thead>\n",
       "  <tbody>\n",
       "    <tr>\n",
       "      <th>0</th>\n",
       "      <td>2022-08-01 22:42:50+00:00</td>\n",
       "      <td>1554236241150984192</td>\n",
       "      <td>@alexandrebie Ciro Gomes é o contra o abuso do...</td>\n",
       "      <td>Ciro Gomes</td>\n",
       "    </tr>\n",
       "    <tr>\n",
       "      <th>1</th>\n",
       "      <td>2022-08-01 22:42:22+00:00</td>\n",
       "      <td>1554236122737385475</td>\n",
       "      <td>Ciro viu o Lula se corromper e denunciou na da...</td>\n",
       "      <td>Ciro Gomes</td>\n",
       "    </tr>\n",
       "    <tr>\n",
       "      <th>2</th>\n",
       "      <td>2022-08-01 22:42:18+00:00</td>\n",
       "      <td>1554236105532260357</td>\n",
       "      <td>@mmarescast @cirogomes @gioewbank Ciro é bolso...</td>\n",
       "      <td>Ciro Gomes</td>\n",
       "    </tr>\n",
       "    <tr>\n",
       "      <th>3</th>\n",
       "      <td>2022-08-01 22:42:09+00:00</td>\n",
       "      <td>1554236068102373376</td>\n",
       "      <td>@DudaSalabert @cirogomes 🌹</td>\n",
       "      <td>Ciro Gomes</td>\n",
       "    </tr>\n",
       "    <tr>\n",
       "      <th>4</th>\n",
       "      <td>2022-08-01 22:42:09+00:00</td>\n",
       "      <td>1554236066160312322</td>\n",
       "      <td>@cirogomes @Cibele_12C Parabéns! Saúde e paz! ...</td>\n",
       "      <td>Ciro Gomes</td>\n",
       "    </tr>\n",
       "  </tbody>\n",
       "</table>\n",
       "</div>"
      ],
      "text/plain": [
       "                  Data_Hora             Id_Tweet  \\\n",
       "0 2022-08-01 22:42:50+00:00  1554236241150984192   \n",
       "1 2022-08-01 22:42:22+00:00  1554236122737385475   \n",
       "2 2022-08-01 22:42:18+00:00  1554236105532260357   \n",
       "3 2022-08-01 22:42:09+00:00  1554236068102373376   \n",
       "4 2022-08-01 22:42:09+00:00  1554236066160312322   \n",
       "\n",
       "                                               Tweet   Candidato  \n",
       "0  @alexandrebie Ciro Gomes é o contra o abuso do...  Ciro Gomes  \n",
       "1  Ciro viu o Lula se corromper e denunciou na da...  Ciro Gomes  \n",
       "2  @mmarescast @cirogomes @gioewbank Ciro é bolso...  Ciro Gomes  \n",
       "3                         @DudaSalabert @cirogomes 🌹  Ciro Gomes  \n",
       "4  @cirogomes @Cibele_12C Parabéns! Saúde e paz! ...  Ciro Gomes  "
      ]
     },
     "execution_count": 42,
     "metadata": {},
     "output_type": "execute_result"
    }
   ],
   "source": [
    "dataframe_tweet_ciro = pd.DataFrame(lista_tweets_ciro, columns=['Data_Hora', 'Id_Tweet', 'Tweet'])\n",
    "dataframe_tweet_ciro['Candidato'] = 'Ciro Gomes'\n",
    "dataframe_tweet_ciro.head()"
   ]
  },
  {
   "cell_type": "code",
   "execution_count": 43,
   "id": "a50ed6d4",
   "metadata": {
    "ExecuteTime": {
     "end_time": "2022-08-01T22:43:19.766111Z",
     "start_time": "2022-08-01T22:43:19.745124Z"
    }
   },
   "outputs": [
    {
     "data": {
      "text/html": [
       "<div>\n",
       "<style scoped>\n",
       "    .dataframe tbody tr th:only-of-type {\n",
       "        vertical-align: middle;\n",
       "    }\n",
       "\n",
       "    .dataframe tbody tr th {\n",
       "        vertical-align: top;\n",
       "    }\n",
       "\n",
       "    .dataframe thead th {\n",
       "        text-align: right;\n",
       "    }\n",
       "</style>\n",
       "<table border=\"1\" class=\"dataframe\">\n",
       "  <thead>\n",
       "    <tr style=\"text-align: right;\">\n",
       "      <th></th>\n",
       "      <th>Data_Hora</th>\n",
       "      <th>Id_Tweet</th>\n",
       "      <th>Tweet</th>\n",
       "      <th>Candidato</th>\n",
       "    </tr>\n",
       "  </thead>\n",
       "  <tbody>\n",
       "    <tr>\n",
       "      <th>0</th>\n",
       "      <td>2022-08-01 22:42:31+00:00</td>\n",
       "      <td>1554236160322539524</td>\n",
       "      <td>@ptbrasil @LulaOficial Na urra eletrônica frau...</td>\n",
       "      <td>Lula</td>\n",
       "    </tr>\n",
       "    <tr>\n",
       "      <th>1</th>\n",
       "      <td>2022-08-01 22:42:31+00:00</td>\n",
       "      <td>1554236158992961537</td>\n",
       "      <td>@LulaOficial @ricardostuckert Esse mente</td>\n",
       "      <td>Lula</td>\n",
       "    </tr>\n",
       "    <tr>\n",
       "      <th>2</th>\n",
       "      <td>2022-08-01 22:42:29+00:00</td>\n",
       "      <td>1554236153099870208</td>\n",
       "      <td>@AdamBravo79 @AnarcoFino \"Muito melhor\" : \\nDe...</td>\n",
       "      <td>Lula</td>\n",
       "    </tr>\n",
       "    <tr>\n",
       "      <th>3</th>\n",
       "      <td>2022-08-01 22:42:29+00:00</td>\n",
       "      <td>1554236151858331648</td>\n",
       "      <td>@extraclassejor No Rio Grande do Sul, Edgar Pr...</td>\n",
       "      <td>Lula</td>\n",
       "    </tr>\n",
       "    <tr>\n",
       "      <th>4</th>\n",
       "      <td>2022-08-01 22:42:26+00:00</td>\n",
       "      <td>1554236139636129792</td>\n",
       "      <td>@LulaOficial @ricardostuckert https://t.co/vMx...</td>\n",
       "      <td>Lula</td>\n",
       "    </tr>\n",
       "  </tbody>\n",
       "</table>\n",
       "</div>"
      ],
      "text/plain": [
       "                  Data_Hora             Id_Tweet  \\\n",
       "0 2022-08-01 22:42:31+00:00  1554236160322539524   \n",
       "1 2022-08-01 22:42:31+00:00  1554236158992961537   \n",
       "2 2022-08-01 22:42:29+00:00  1554236153099870208   \n",
       "3 2022-08-01 22:42:29+00:00  1554236151858331648   \n",
       "4 2022-08-01 22:42:26+00:00  1554236139636129792   \n",
       "\n",
       "                                               Tweet Candidato  \n",
       "0  @ptbrasil @LulaOficial Na urra eletrônica frau...      Lula  \n",
       "1           @LulaOficial @ricardostuckert Esse mente      Lula  \n",
       "2  @AdamBravo79 @AnarcoFino \"Muito melhor\" : \\nDe...      Lula  \n",
       "3  @extraclassejor No Rio Grande do Sul, Edgar Pr...      Lula  \n",
       "4  @LulaOficial @ricardostuckert https://t.co/vMx...      Lula  "
      ]
     },
     "execution_count": 43,
     "metadata": {},
     "output_type": "execute_result"
    }
   ],
   "source": [
    "dataframe_final = pd.concat([dataframe_tweet_lula, dataframe_tweet_bolsonaro, dataframe_tweet_ciro], axis=0)\n",
    "dataframe_final.head()"
   ]
  },
  {
   "cell_type": "code",
   "execution_count": 44,
   "id": "bce62a08",
   "metadata": {
    "ExecuteTime": {
     "end_time": "2022-08-01T22:43:22.793194Z",
     "start_time": "2022-08-01T22:43:22.784200Z"
    }
   },
   "outputs": [
    {
     "data": {
      "text/plain": [
       "array(['Lula', 'Bolsonaro', 'Ciro Gomes'], dtype=object)"
      ]
     },
     "execution_count": 44,
     "metadata": {},
     "output_type": "execute_result"
    }
   ],
   "source": [
    "dataframe_final['Candidato'].unique()"
   ]
  },
  {
   "cell_type": "code",
   "execution_count": 45,
   "id": "5f983b19",
   "metadata": {
    "ExecuteTime": {
     "end_time": "2022-08-01T22:43:24.931168Z",
     "start_time": "2022-08-01T22:43:24.904185Z"
    }
   },
   "outputs": [],
   "source": [
    "dataframe_final.to_csv('etapa02_dataframe_final_candidatos.csv', sep=',', index=False)"
   ]
  },
  {
   "cell_type": "code",
   "execution_count": null,
   "id": "9c138573",
   "metadata": {},
   "outputs": [],
   "source": []
  }
 ],
 "metadata": {
  "kernelspec": {
   "display_name": "Python 3 (ipykernel)",
   "language": "python",
   "name": "python3"
  },
  "language_info": {
   "codemirror_mode": {
    "name": "ipython",
    "version": 3
   },
   "file_extension": ".py",
   "mimetype": "text/x-python",
   "name": "python",
   "nbconvert_exporter": "python",
   "pygments_lexer": "ipython3",
   "version": "3.9.7"
  },
  "widgets": {
   "application/vnd.jupyter.widget-state+json": {
    "state": {},
    "version_major": 2,
    "version_minor": 0
   }
  }
 },
 "nbformat": 4,
 "nbformat_minor": 5
}
