{
 "cells": [
  {
   "cell_type": "markdown",
   "id": "92150775",
   "metadata": {},
   "source": [
    "# Apresentação do projeto\n",
    "Proposta para construção de uma aplicação que realiza análise de sentimento dos candidatos à presidência da República Federativa do Brasil."
   ]
  },
  {
   "cell_type": "markdown",
   "id": "d577303b",
   "metadata": {},
   "source": [
    "Instalação das Bibliotecas"
   ]
  },
  {
   "cell_type": "code",
   "execution_count": 10,
   "id": "2907c59d",
   "metadata": {
    "ExecuteTime": {
     "end_time": "2022-08-01T02:02:44.461958Z",
     "start_time": "2022-08-01T02:02:39.015422Z"
    },
    "collapsed": true
   },
   "outputs": [
    {
     "name": "stdout",
     "output_type": "stream",
     "text": [
      "Requirement already satisfied: snscrape in c:\\users\\gilvancly\\anaconda3\\lib\\site-packages (0.4.3.20220106)\n",
      "Requirement already satisfied: requests[socks] in c:\\users\\gilvancly\\anaconda3\\lib\\site-packages (from snscrape) (2.26.0)\n",
      "Requirement already satisfied: filelock in c:\\users\\gilvancly\\anaconda3\\lib\\site-packages (from snscrape) (3.3.1)\n",
      "Requirement already satisfied: beautifulsoup4 in c:\\users\\gilvancly\\anaconda3\\lib\\site-packages (from snscrape) (4.10.0)\n",
      "Requirement already satisfied: lxml in c:\\users\\gilvancly\\anaconda3\\lib\\site-packages (from snscrape) (4.6.3)\n",
      "Requirement already satisfied: soupsieve>1.2 in c:\\users\\gilvancly\\anaconda3\\lib\\site-packages (from beautifulsoup4->snscrape) (2.2.1)\n",
      "Requirement already satisfied: charset-normalizer~=2.0.0 in c:\\users\\gilvancly\\anaconda3\\lib\\site-packages (from requests[socks]->snscrape) (2.0.4)\n",
      "Requirement already satisfied: certifi>=2017.4.17 in c:\\users\\gilvancly\\anaconda3\\lib\\site-packages (from requests[socks]->snscrape) (2021.10.8)\n",
      "Requirement already satisfied: urllib3<1.27,>=1.21.1 in c:\\users\\gilvancly\\anaconda3\\lib\\site-packages (from requests[socks]->snscrape) (1.26.7)\n",
      "Requirement already satisfied: idna<4,>=2.5 in c:\\users\\gilvancly\\anaconda3\\lib\\site-packages (from requests[socks]->snscrape) (3.2)\n",
      "Requirement already satisfied: PySocks!=1.5.7,>=1.5.6 in c:\\users\\gilvancly\\anaconda3\\lib\\site-packages (from requests[socks]->snscrape) (1.7.1)\n",
      "Note: you may need to restart the kernel to use updated packages.\n"
     ]
    }
   ],
   "source": [
    "pip install snscrape"
   ]
  },
  {
   "cell_type": "markdown",
   "id": "59fea5f3",
   "metadata": {},
   "source": [
    "Importando as Bibliotecas"
   ]
  },
  {
   "cell_type": "code",
   "execution_count": 40,
   "id": "ff5b4ed4",
   "metadata": {
    "ExecuteTime": {
     "end_time": "2022-08-01T03:34:51.880277Z",
     "start_time": "2022-08-01T03:34:26.931042Z"
    }
   },
   "outputs": [],
   "source": [
    "import snscrape.modules.twitter as sntwitter\n",
    "import pandas as pd"
   ]
  },
  {
   "cell_type": "code",
   "execution_count": 12,
   "id": "27a87b39",
   "metadata": {
    "ExecuteTime": {
     "end_time": "2022-08-01T02:02:54.883301Z",
     "start_time": "2022-08-01T02:02:54.879303Z"
    }
   },
   "outputs": [],
   "source": [
    "max_tweets = 100"
   ]
  },
  {
   "cell_type": "markdown",
   "id": "962c5a7b",
   "metadata": {},
   "source": [
    "# Lula"
   ]
  },
  {
   "cell_type": "code",
   "execution_count": 13,
   "id": "57e9de2f",
   "metadata": {
    "ExecuteTime": {
     "end_time": "2022-08-01T02:02:56.188302Z",
     "start_time": "2022-08-01T02:02:56.183306Z"
    }
   },
   "outputs": [],
   "source": [
    "lista_tweets_lula = []"
   ]
  },
  {
   "cell_type": "code",
   "execution_count": 38,
   "id": "aa06bcea",
   "metadata": {
    "ExecuteTime": {
     "end_time": "2022-08-01T03:27:19.973191Z",
     "start_time": "2022-08-01T03:27:10.807494Z"
    }
   },
   "outputs": [],
   "source": [
    "for i, tweet in enumerate(sntwitter.TwitterSearchScraper('lula').get_items()):\n",
    "    if i > max_tweets:\n",
    "        break\n",
    "    lista_tweets_lula.append([tweet.date, tweet.id, tweet.content])"
   ]
  },
  {
   "cell_type": "code",
   "execution_count": 42,
   "id": "0a4110da",
   "metadata": {
    "ExecuteTime": {
     "end_time": "2022-08-01T03:41:16.778063Z",
     "start_time": "2022-08-01T03:41:16.696053Z"
    }
   },
   "outputs": [
    {
     "data": {
      "text/html": [
       "<div>\n",
       "<style scoped>\n",
       "    .dataframe tbody tr th:only-of-type {\n",
       "        vertical-align: middle;\n",
       "    }\n",
       "\n",
       "    .dataframe tbody tr th {\n",
       "        vertical-align: top;\n",
       "    }\n",
       "\n",
       "    .dataframe thead th {\n",
       "        text-align: right;\n",
       "    }\n",
       "</style>\n",
       "<table border=\"1\" class=\"dataframe\">\n",
       "  <thead>\n",
       "    <tr style=\"text-align: right;\">\n",
       "      <th></th>\n",
       "      <th>Data_Hora</th>\n",
       "      <th>Id_Tweet</th>\n",
       "      <th>Tweet</th>\n",
       "      <th>Candidato</th>\n",
       "    </tr>\n",
       "  </thead>\n",
       "  <tbody>\n",
       "    <tr>\n",
       "      <th>0</th>\n",
       "      <td>2022-08-01 03:27:06+00:00</td>\n",
       "      <td>1553945390017396739</td>\n",
       "      <td>@alexandrekalil @LulaOficial \"penso parecido c...</td>\n",
       "      <td>Lula</td>\n",
       "    </tr>\n",
       "    <tr>\n",
       "      <th>1</th>\n",
       "      <td>2022-08-01 03:27:04+00:00</td>\n",
       "      <td>1553945382610247682</td>\n",
       "      <td>@LulaOficial Não sejam enganados. https://t.co...</td>\n",
       "      <td>Lula</td>\n",
       "    </tr>\n",
       "    <tr>\n",
       "      <th>2</th>\n",
       "      <td>2022-08-01 03:27:04+00:00</td>\n",
       "      <td>1553945380227891202</td>\n",
       "      <td>@fabiano14885851 @macielclaudio @daniel_quint7...</td>\n",
       "      <td>Lula</td>\n",
       "    </tr>\n",
       "    <tr>\n",
       "      <th>3</th>\n",
       "      <td>2022-08-01 03:27:01+00:00</td>\n",
       "      <td>1553945368467066880</td>\n",
       "      <td>@santinzim Ata mais vdd do q o lula ter tds os...</td>\n",
       "      <td>Lula</td>\n",
       "    </tr>\n",
       "    <tr>\n",
       "      <th>4</th>\n",
       "      <td>2022-08-01 03:27:01+00:00</td>\n",
       "      <td>1553945367246413824</td>\n",
       "      <td>@LulaOficial Cheio de bla bla que só idiota ac...</td>\n",
       "      <td>Lula</td>\n",
       "    </tr>\n",
       "  </tbody>\n",
       "</table>\n",
       "</div>"
      ],
      "text/plain": [
       "                  Data_Hora             Id_Tweet  \\\n",
       "0 2022-08-01 03:27:06+00:00  1553945390017396739   \n",
       "1 2022-08-01 03:27:04+00:00  1553945382610247682   \n",
       "2 2022-08-01 03:27:04+00:00  1553945380227891202   \n",
       "3 2022-08-01 03:27:01+00:00  1553945368467066880   \n",
       "4 2022-08-01 03:27:01+00:00  1553945367246413824   \n",
       "\n",
       "                                               Tweet Candidato  \n",
       "0  @alexandrekalil @LulaOficial \"penso parecido c...      Lula  \n",
       "1  @LulaOficial Não sejam enganados. https://t.co...      Lula  \n",
       "2  @fabiano14885851 @macielclaudio @daniel_quint7...      Lula  \n",
       "3  @santinzim Ata mais vdd do q o lula ter tds os...      Lula  \n",
       "4  @LulaOficial Cheio de bla bla que só idiota ac...      Lula  "
      ]
     },
     "execution_count": 42,
     "metadata": {},
     "output_type": "execute_result"
    }
   ],
   "source": [
    "dataframe_tweet_lula = pd.DataFrame(lista_tweets_lula, columns=['Data_Hora', 'Id_Tweet', 'Tweet'])\n",
    "dataframe_tweet_lula['Candidato'] = 'Lula'\n",
    "dataframe_tweet_lula.head()"
   ]
  },
  {
   "cell_type": "markdown",
   "id": "96179a3a",
   "metadata": {},
   "source": [
    "# Bolsonaro"
   ]
  },
  {
   "cell_type": "code",
   "execution_count": 43,
   "id": "63ea0300",
   "metadata": {
    "ExecuteTime": {
     "end_time": "2022-08-01T03:44:23.341758Z",
     "start_time": "2022-08-01T03:44:23.335758Z"
    }
   },
   "outputs": [],
   "source": [
    "lista_tweets_bolsonaro = []"
   ]
  },
  {
   "cell_type": "code",
   "execution_count": 44,
   "id": "18da96e7",
   "metadata": {
    "ExecuteTime": {
     "end_time": "2022-08-01T03:45:28.434669Z",
     "start_time": "2022-08-01T03:45:24.038988Z"
    }
   },
   "outputs": [],
   "source": [
    "for i, tweet in enumerate(sntwitter.TwitterSearchScraper('bolsonaro').get_items()):\n",
    "    if i > max_tweets:\n",
    "        break\n",
    "    lista_tweets_bolsonaro.append([tweet.date, tweet.id, tweet.content])"
   ]
  },
  {
   "cell_type": "code",
   "execution_count": 46,
   "id": "9b8e037a",
   "metadata": {
    "ExecuteTime": {
     "end_time": "2022-08-01T03:46:30.994007Z",
     "start_time": "2022-08-01T03:46:30.973006Z"
    }
   },
   "outputs": [
    {
     "data": {
      "text/html": [
       "<div>\n",
       "<style scoped>\n",
       "    .dataframe tbody tr th:only-of-type {\n",
       "        vertical-align: middle;\n",
       "    }\n",
       "\n",
       "    .dataframe tbody tr th {\n",
       "        vertical-align: top;\n",
       "    }\n",
       "\n",
       "    .dataframe thead th {\n",
       "        text-align: right;\n",
       "    }\n",
       "</style>\n",
       "<table border=\"1\" class=\"dataframe\">\n",
       "  <thead>\n",
       "    <tr style=\"text-align: right;\">\n",
       "      <th></th>\n",
       "      <th>Data_Hora</th>\n",
       "      <th>Id_Tweet</th>\n",
       "      <th>Tweet</th>\n",
       "      <th>Candidato</th>\n",
       "    </tr>\n",
       "  </thead>\n",
       "  <tbody>\n",
       "    <tr>\n",
       "      <th>0</th>\n",
       "      <td>2022-08-01 03:45:13+00:00</td>\n",
       "      <td>1553949947334213633</td>\n",
       "      <td>@ThiagoResiste Bolsonaro na cadeia</td>\n",
       "      <td>Bolsonaro</td>\n",
       "    </tr>\n",
       "    <tr>\n",
       "      <th>1</th>\n",
       "      <td>2022-08-01 03:45:07+00:00</td>\n",
       "      <td>1553949925456707586</td>\n",
       "      <td>@ss2_ya bolsonaro</td>\n",
       "      <td>Bolsonaro</td>\n",
       "    </tr>\n",
       "    <tr>\n",
       "      <th>2</th>\n",
       "      <td>2022-08-01 03:45:05+00:00</td>\n",
       "      <td>1553949913486163970</td>\n",
       "      <td>@bibonunes1 Quem vai pra cadeia é Bolsonaro. V...</td>\n",
       "      <td>Bolsonaro</td>\n",
       "    </tr>\n",
       "    <tr>\n",
       "      <th>3</th>\n",
       "      <td>2022-08-01 03:45:03+00:00</td>\n",
       "      <td>1553949906058055680</td>\n",
       "      <td>O FORA BOLSONARO RACHEI https://t.co/R6ENMrYIVf</td>\n",
       "      <td>Bolsonaro</td>\n",
       "    </tr>\n",
       "    <tr>\n",
       "      <th>4</th>\n",
       "      <td>2022-08-01 03:45:00+00:00</td>\n",
       "      <td>1553949893365997568</td>\n",
       "      <td>Bolsonaro vibes. https://t.co/TkoKm4cYJg</td>\n",
       "      <td>Bolsonaro</td>\n",
       "    </tr>\n",
       "  </tbody>\n",
       "</table>\n",
       "</div>"
      ],
      "text/plain": [
       "                  Data_Hora             Id_Tweet  \\\n",
       "0 2022-08-01 03:45:13+00:00  1553949947334213633   \n",
       "1 2022-08-01 03:45:07+00:00  1553949925456707586   \n",
       "2 2022-08-01 03:45:05+00:00  1553949913486163970   \n",
       "3 2022-08-01 03:45:03+00:00  1553949906058055680   \n",
       "4 2022-08-01 03:45:00+00:00  1553949893365997568   \n",
       "\n",
       "                                               Tweet  Candidato  \n",
       "0                 @ThiagoResiste Bolsonaro na cadeia  Bolsonaro  \n",
       "1                                  @ss2_ya bolsonaro  Bolsonaro  \n",
       "2  @bibonunes1 Quem vai pra cadeia é Bolsonaro. V...  Bolsonaro  \n",
       "3    O FORA BOLSONARO RACHEI https://t.co/R6ENMrYIVf  Bolsonaro  \n",
       "4           Bolsonaro vibes. https://t.co/TkoKm4cYJg  Bolsonaro  "
      ]
     },
     "execution_count": 46,
     "metadata": {},
     "output_type": "execute_result"
    }
   ],
   "source": [
    "dataframe_tweet_bolsonaro = pd.DataFrame(lista_tweets_bolsonaro, columns=['Data_Hora', 'Id_Tweet', 'Tweet'])\n",
    "dataframe_tweet_bolsonaro['Candidato'] = 'Bolsonaro'\n",
    "dataframe_tweet_bolsonaro.head()"
   ]
  },
  {
   "cell_type": "markdown",
   "id": "b98bd719",
   "metadata": {},
   "source": [
    "# Ciro Gomes"
   ]
  },
  {
   "cell_type": "code",
   "execution_count": 47,
   "id": "9377b2ab",
   "metadata": {
    "ExecuteTime": {
     "end_time": "2022-08-01T03:47:09.897120Z",
     "start_time": "2022-08-01T03:47:09.886125Z"
    }
   },
   "outputs": [],
   "source": [
    "lista_tweets_ciro = []"
   ]
  },
  {
   "cell_type": "code",
   "execution_count": 50,
   "id": "af4dbde6",
   "metadata": {
    "ExecuteTime": {
     "end_time": "2022-08-01T03:53:28.774262Z",
     "start_time": "2022-08-01T03:53:25.388901Z"
    }
   },
   "outputs": [],
   "source": [
    "for i, tweet in enumerate(sntwitter.TwitterSearchScraper('ciro gomes').get_items()):\n",
    "    if i > max_tweets:\n",
    "        break\n",
    "    lista_tweets_ciro.append([tweet.date, tweet.id, tweet.content])"
   ]
  },
  {
   "cell_type": "code",
   "execution_count": 52,
   "id": "961d904f",
   "metadata": {
    "ExecuteTime": {
     "end_time": "2022-08-01T03:53:51.031364Z",
     "start_time": "2022-08-01T03:53:51.007379Z"
    }
   },
   "outputs": [
    {
     "data": {
      "text/html": [
       "<div>\n",
       "<style scoped>\n",
       "    .dataframe tbody tr th:only-of-type {\n",
       "        vertical-align: middle;\n",
       "    }\n",
       "\n",
       "    .dataframe tbody tr th {\n",
       "        vertical-align: top;\n",
       "    }\n",
       "\n",
       "    .dataframe thead th {\n",
       "        text-align: right;\n",
       "    }\n",
       "</style>\n",
       "<table border=\"1\" class=\"dataframe\">\n",
       "  <thead>\n",
       "    <tr style=\"text-align: right;\">\n",
       "      <th></th>\n",
       "      <th>Data_Hora</th>\n",
       "      <th>Id_Tweet</th>\n",
       "      <th>Tweet</th>\n",
       "      <th>Candidato</th>\n",
       "    </tr>\n",
       "  </thead>\n",
       "  <tbody>\n",
       "    <tr>\n",
       "      <th>0</th>\n",
       "      <td>2022-08-01 03:47:20+00:00</td>\n",
       "      <td>1553950483198496768</td>\n",
       "      <td>Os CÚMPLICES daquele Ano que assinaram o tal P...</td>\n",
       "      <td>Ciro Gomes</td>\n",
       "    </tr>\n",
       "    <tr>\n",
       "      <th>1</th>\n",
       "      <td>2022-08-01 03:47:04+00:00</td>\n",
       "      <td>1553950413614899206</td>\n",
       "      <td>Foda que eu penso em ler o livro do ciro só pr...</td>\n",
       "      <td>Ciro Gomes</td>\n",
       "    </tr>\n",
       "    <tr>\n",
       "      <th>2</th>\n",
       "      <td>2022-08-01 03:46:59+00:00</td>\n",
       "      <td>1553950392806940674</td>\n",
       "      <td>@nogwinn A pior coisa até o próximo domingo do...</td>\n",
       "      <td>Ciro Gomes</td>\n",
       "    </tr>\n",
       "    <tr>\n",
       "      <th>3</th>\n",
       "      <td>2022-08-01 03:46:55+00:00</td>\n",
       "      <td>1553950377195749380</td>\n",
       "      <td>Rafael desafia Bolsonaro e Ciro a deixar de \"s...</td>\n",
       "      <td>Ciro Gomes</td>\n",
       "    </tr>\n",
       "    <tr>\n",
       "      <th>4</th>\n",
       "      <td>2022-08-01 03:46:37+00:00</td>\n",
       "      <td>1553950302994309120</td>\n",
       "      <td>LULA X CIRO GOMES.\\n\\nGRAÇAS A BRIGA DOS DOIS ...</td>\n",
       "      <td>Ciro Gomes</td>\n",
       "    </tr>\n",
       "  </tbody>\n",
       "</table>\n",
       "</div>"
      ],
      "text/plain": [
       "                  Data_Hora             Id_Tweet  \\\n",
       "0 2022-08-01 03:47:20+00:00  1553950483198496768   \n",
       "1 2022-08-01 03:47:04+00:00  1553950413614899206   \n",
       "2 2022-08-01 03:46:59+00:00  1553950392806940674   \n",
       "3 2022-08-01 03:46:55+00:00  1553950377195749380   \n",
       "4 2022-08-01 03:46:37+00:00  1553950302994309120   \n",
       "\n",
       "                                               Tweet   Candidato  \n",
       "0  Os CÚMPLICES daquele Ano que assinaram o tal P...  Ciro Gomes  \n",
       "1  Foda que eu penso em ler o livro do ciro só pr...  Ciro Gomes  \n",
       "2  @nogwinn A pior coisa até o próximo domingo do...  Ciro Gomes  \n",
       "3  Rafael desafia Bolsonaro e Ciro a deixar de \"s...  Ciro Gomes  \n",
       "4  LULA X CIRO GOMES.\\n\\nGRAÇAS A BRIGA DOS DOIS ...  Ciro Gomes  "
      ]
     },
     "execution_count": 52,
     "metadata": {},
     "output_type": "execute_result"
    }
   ],
   "source": [
    "dataframe_tweet_ciro = pd.DataFrame(lista_tweets_ciro, columns=['Data_Hora', 'Id_Tweet', 'Tweet'])\n",
    "dataframe_tweet_ciro['Candidato'] = 'Ciro Gomes'\n",
    "dataframe_tweet_ciro.head()"
   ]
  },
  {
   "cell_type": "code",
   "execution_count": 53,
   "id": "a50ed6d4",
   "metadata": {
    "ExecuteTime": {
     "end_time": "2022-08-01T03:59:22.267091Z",
     "start_time": "2022-08-01T03:59:22.168154Z"
    }
   },
   "outputs": [
    {
     "data": {
      "text/html": [
       "<div>\n",
       "<style scoped>\n",
       "    .dataframe tbody tr th:only-of-type {\n",
       "        vertical-align: middle;\n",
       "    }\n",
       "\n",
       "    .dataframe tbody tr th {\n",
       "        vertical-align: top;\n",
       "    }\n",
       "\n",
       "    .dataframe thead th {\n",
       "        text-align: right;\n",
       "    }\n",
       "</style>\n",
       "<table border=\"1\" class=\"dataframe\">\n",
       "  <thead>\n",
       "    <tr style=\"text-align: right;\">\n",
       "      <th></th>\n",
       "      <th>Data_Hora</th>\n",
       "      <th>Id_Tweet</th>\n",
       "      <th>Tweet</th>\n",
       "      <th>Candidato</th>\n",
       "    </tr>\n",
       "  </thead>\n",
       "  <tbody>\n",
       "    <tr>\n",
       "      <th>0</th>\n",
       "      <td>2022-08-01 03:27:06+00:00</td>\n",
       "      <td>1553945390017396739</td>\n",
       "      <td>@alexandrekalil @LulaOficial \"penso parecido c...</td>\n",
       "      <td>Lula</td>\n",
       "    </tr>\n",
       "    <tr>\n",
       "      <th>1</th>\n",
       "      <td>2022-08-01 03:27:04+00:00</td>\n",
       "      <td>1553945382610247682</td>\n",
       "      <td>@LulaOficial Não sejam enganados. https://t.co...</td>\n",
       "      <td>Lula</td>\n",
       "    </tr>\n",
       "    <tr>\n",
       "      <th>2</th>\n",
       "      <td>2022-08-01 03:27:04+00:00</td>\n",
       "      <td>1553945380227891202</td>\n",
       "      <td>@fabiano14885851 @macielclaudio @daniel_quint7...</td>\n",
       "      <td>Lula</td>\n",
       "    </tr>\n",
       "    <tr>\n",
       "      <th>3</th>\n",
       "      <td>2022-08-01 03:27:01+00:00</td>\n",
       "      <td>1553945368467066880</td>\n",
       "      <td>@santinzim Ata mais vdd do q o lula ter tds os...</td>\n",
       "      <td>Lula</td>\n",
       "    </tr>\n",
       "    <tr>\n",
       "      <th>4</th>\n",
       "      <td>2022-08-01 03:27:01+00:00</td>\n",
       "      <td>1553945367246413824</td>\n",
       "      <td>@LulaOficial Cheio de bla bla que só idiota ac...</td>\n",
       "      <td>Lula</td>\n",
       "    </tr>\n",
       "  </tbody>\n",
       "</table>\n",
       "</div>"
      ],
      "text/plain": [
       "                  Data_Hora             Id_Tweet  \\\n",
       "0 2022-08-01 03:27:06+00:00  1553945390017396739   \n",
       "1 2022-08-01 03:27:04+00:00  1553945382610247682   \n",
       "2 2022-08-01 03:27:04+00:00  1553945380227891202   \n",
       "3 2022-08-01 03:27:01+00:00  1553945368467066880   \n",
       "4 2022-08-01 03:27:01+00:00  1553945367246413824   \n",
       "\n",
       "                                               Tweet Candidato  \n",
       "0  @alexandrekalil @LulaOficial \"penso parecido c...      Lula  \n",
       "1  @LulaOficial Não sejam enganados. https://t.co...      Lula  \n",
       "2  @fabiano14885851 @macielclaudio @daniel_quint7...      Lula  \n",
       "3  @santinzim Ata mais vdd do q o lula ter tds os...      Lula  \n",
       "4  @LulaOficial Cheio de bla bla que só idiota ac...      Lula  "
      ]
     },
     "execution_count": 53,
     "metadata": {},
     "output_type": "execute_result"
    }
   ],
   "source": [
    "dataframe_final = pd.concat([dataframe_tweet_lula, dataframe_tweet_bolsonaro, dataframe_tweet_ciro], axis=0)\n",
    "dataframe_final.head()"
   ]
  },
  {
   "cell_type": "code",
   "execution_count": 54,
   "id": "bce62a08",
   "metadata": {
    "ExecuteTime": {
     "end_time": "2022-08-01T04:00:19.990534Z",
     "start_time": "2022-08-01T04:00:19.829370Z"
    }
   },
   "outputs": [
    {
     "data": {
      "text/plain": [
       "array(['Lula', 'Bolsonaro', 'Ciro Gomes'], dtype=object)"
      ]
     },
     "execution_count": 54,
     "metadata": {},
     "output_type": "execute_result"
    }
   ],
   "source": [
    "dataframe_final['Candidato'].unique()"
   ]
  },
  {
   "cell_type": "code",
   "execution_count": 56,
   "id": "5f983b19",
   "metadata": {
    "ExecuteTime": {
     "end_time": "2022-08-01T04:04:34.120856Z",
     "start_time": "2022-08-01T04:04:33.724989Z"
    }
   },
   "outputs": [],
   "source": [
    "dataframe_final.to_csv('dataframe_final_candidatos.csv', sep=',', index=False)"
   ]
  }
 ],
 "metadata": {
  "kernelspec": {
   "display_name": "Python 3 (ipykernel)",
   "language": "python",
   "name": "python3"
  },
  "language_info": {
   "codemirror_mode": {
    "name": "ipython",
    "version": 3
   },
   "file_extension": ".py",
   "mimetype": "text/x-python",
   "name": "python",
   "nbconvert_exporter": "python",
   "pygments_lexer": "ipython3",
   "version": "3.9.7"
  },
  "widgets": {
   "application/vnd.jupyter.widget-state+json": {
    "state": {},
    "version_major": 2,
    "version_minor": 0
   }
  }
 },
 "nbformat": 4,
 "nbformat_minor": 5
}
